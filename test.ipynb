{
 "cells": [
  {
   "cell_type": "markdown",
   "metadata": {},
   "source": [
    "# Test A Model on a Random Test Image"
   ]
  },
  {
   "cell_type": "code",
   "execution_count": null,
   "metadata": {},
   "outputs": [],
   "source": [
    "%load_ext autoreload\n",
    "%autoreload 2\n",
    "\n",
    "import os\n",
    "import glob\n",
    "from yaml import safe_load as yaml_load\n",
    "\n",
    "import numpy as np\n",
    "import tifffile\n",
    "import matplotlib.pyplot as plt\n",
    "\n",
    "from stardist import random_label_cmap\n",
    "\n",
    "from keras_transfer_learning import model, dataset\n",
    "\n",
    "lbl_cmap = random_label_cmap()"
   ]
  },
  {
   "cell_type": "markdown",
   "metadata": {},
   "source": [
    "## List the models\n",
    "\n",
    "In the following cell all available models in the model directory are listed. Choose one by copying its name to the next cell."
   ]
  },
  {
   "cell_type": "code",
   "execution_count": null,
   "metadata": {},
   "outputs": [],
   "source": [
    "print('\\n'.join(sorted([f.rpartition(os.path.sep)[-1] for f in glob.glob(os.path.join('.', 'models', '*'))])))"
   ]
  },
  {
   "cell_type": "code",
   "execution_count": null,
   "metadata": {},
   "outputs": [],
   "source": [
    "model_name = 'E2_unet_stardist_granulocyte_R_2'"
   ]
  },
  {
   "cell_type": "code",
   "execution_count": null,
   "metadata": {},
   "outputs": [],
   "source": [
    "model_dir = os.path.join('.', 'models', model_name)\n",
    "m = model.Model(model_dir=model_dir, load_weights='last')"
   ]
  },
  {
   "cell_type": "markdown",
   "metadata": {},
   "source": [
    "## Run The Model on a Random Example\n",
    "\n",
    "Set the seed to some integer number to get the same example every time."
   ]
  },
  {
   "cell_type": "code",
   "execution_count": null,
   "metadata": {},
   "outputs": [],
   "source": [
    "seed = None # Change to load another example\n",
    "\n",
    "d = dataset.Dataset(m.config)\n",
    "\n",
    "img, mask = d.get_random_test_img()\n",
    "\n",
    "plt.subplot(1, 2, 1)\n",
    "plt.imshow(img)\n",
    "plt.subplot(1, 2, 2)\n",
    "plt.imshow(mask, cmap=lbl_cmap)\n",
    "plt.show()\n",
    "\n",
    "# Run the model\n",
    "pred = m.predict(img)[0]\n",
    "\n",
    "# TODO plot for stardist\n",
    "if isinstance(pred, tuple):\n",
    "    plt.subplot(1, 2, 1)\n",
    "    plt.imshow(pred[0][..., 0])\n",
    "    plt.subplot(1, 2, 2)\n",
    "    plt.imshow(pred[1][..., 0])\n",
    "else:\n",
    "    plt.imshow(pred[...,0], cmap='gray')\n",
    "plt.show()\n",
    "\n",
    "\n",
    "# Process the prediction\n",
    "labels = m.process_prediction(pred)[0]\n",
    "\n",
    "# TODO labels vs segm\n",
    "plt.imshow(labels, cmap=lbl_cmap)\n",
    "plt.show()"
   ]
  }
 ],
 "metadata": {
  "kernelspec": {
   "display_name": "Python 3",
   "language": "python",
   "name": "python3"
  },
  "language_info": {
   "codemirror_mode": {
    "name": "ipython",
    "version": 3
   },
   "file_extension": ".py",
   "mimetype": "text/x-python",
   "name": "python",
   "nbconvert_exporter": "python",
   "pygments_lexer": "ipython3",
   "version": "3.6.8"
  }
 },
 "nbformat": 4,
 "nbformat_minor": 2
}
