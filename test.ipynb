{
 "cells": [
  {
   "cell_type": "code",
   "execution_count": 5,
   "metadata": {},
   "outputs": [],
   "source": [
    "import os\n",
    "from yaml import safe_load as yaml_load"
   ]
  },
  {
   "cell_type": "markdown",
   "metadata": {},
   "source": [
    "Load the config"
   ]
  },
  {
   "cell_type": "code",
   "execution_count": 10,
   "metadata": {},
   "outputs": [],
   "source": [
    "model_name = 'small-unet_stardist-dsb2018'\n",
    "with open(os.path.join('models', model_name, 'config.yaml'), 'r') as file:\n",
    "    config = yaml_load(file)"
   ]
  },
  {
   "cell_type": "code",
   "execution_count": 11,
   "metadata": {},
   "outputs": [
    {
     "data": {
      "text/plain": [
       "{'backbone': {'args': {'filters': [32, 64, 128]},\n",
       "  'name': 'unet',\n",
       "  'weights': None},\n",
       " 'data': {'data_dir': 'data/stardist-dsb2018',\n",
       "  'dataaug': {'augmentors': [{'args': {'height': 128, 'width': 128},\n",
       "     'name': 'CropToFixedSize'},\n",
       "    {'args': {'p': 0.5}, 'name': 'Fliplr'},\n",
       "    {'args': {'p': 0.5}, 'name': 'Flipud'}],\n",
       "   'name': 'imgaug'},\n",
       "  'datasplit_seed': 42,\n",
       "  'name': 'stardist-dsb2018',\n",
       "  'normalizer': 'uint8-range',\n",
       "  'train_val_split': 0.9},\n",
       " 'head': {'args': {}, 'name': 'fgbg-segm', 'prepare_model_args': {}},\n",
       " 'input_shape': [None, None, 1],\n",
       " 'name': 'small-unet_stardist-dsb2018',\n",
       " 'training': {'batch_size': 8,\n",
       "  'callbacks': [{'args': {'patience': 4}, 'name': 'early_stopping'},\n",
       "   {'args': {}, 'name': 'reduce_lr_on_plateau'}]}}"
      ]
     },
     "execution_count": 11,
     "metadata": {},
     "output_type": "execute_result"
    }
   ],
   "source": [
    "config"
   ]
  }
 ],
 "metadata": {
  "kernelspec": {
   "display_name": "Python 3",
   "language": "python",
   "name": "python3"
  },
  "language_info": {
   "codemirror_mode": {
    "name": "ipython",
    "version": 3
   },
   "file_extension": ".py",
   "mimetype": "text/x-python",
   "name": "python",
   "nbconvert_exporter": "python",
   "pygments_lexer": "ipython3",
   "version": "3.6.7"
  }
 },
 "nbformat": 4,
 "nbformat_minor": 2
}
