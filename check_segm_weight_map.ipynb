{
 "cells": [
  {
   "cell_type": "code",
   "execution_count": null,
   "metadata": {},
   "outputs": [],
   "source": [
    "%load_ext autoreload\n",
    "%autoreload 2\n",
    "\n",
    "import os\n",
    "import glob\n",
    "from yaml import safe_load as yaml_load\n",
    "\n",
    "import numpy as np\n",
    "import tifffile\n",
    "import matplotlib\n",
    "import matplotlib.pyplot as plt\n",
    "\n",
    "from stardist import random_label_cmap\n",
    "\n",
    "from keras_transfer_learning import model, dataset\n",
    "from keras_transfer_learning.heads import segm\n",
    "\n",
    "lbl_cmap = random_label_cmap()"
   ]
  },
  {
   "cell_type": "code",
   "execution_count": null,
   "metadata": {},
   "outputs": [],
   "source": [
    "config = {\n",
    "    'name': 'test_segm_weighted',\n",
    "    'input_shape': [128, 64, 1],\n",
    "    'data': {\n",
    "        'name': 'stardist-dsb2018',\n",
    "        'data_dir': 'data/stardist-dsb2018',\n",
    "        'train_val_split': 0.9,\n",
    "        'normalizer': 'min-max',\n",
    "        'datasplit_seed': 42,\n",
    "    },\n",
    "    'backbone': {\n",
    "        'name': 'unet',\n",
    "        'args': {  \n",
    "            'filters': [32, 64, 128]\n",
    "        },\n",
    "        'weights': None\n",
    "    },\n",
    "    'head': {\n",
    "        'name': 'fgbg-segm-weighted',\n",
    "        'args': {},\n",
    "        'prepare_model_args': {},\n",
    "        'prepare_data_args': {}\n",
    "    }\n",
    "}"
   ]
  },
  {
   "cell_type": "code",
   "execution_count": null,
   "metadata": {},
   "outputs": [],
   "source": [
    "seed = None # Change to load another example\n",
    "\n",
    "d = dataset.Dataset(config)\n",
    "\n",
    "img, mask = d.get_random_test_img()\n",
    "\n",
    "plt.subplot(1, 2, 1)\n",
    "plt.imshow(img)\n",
    "plt.subplot(1, 2, 2)\n",
    "plt.imshow(mask, cmap=lbl_cmap)\n",
    "plt.show()"
   ]
  },
  {
   "cell_type": "code",
   "execution_count": null,
   "metadata": {},
   "outputs": [],
   "source": [
    "batch_x = [img]\n",
    "batch_y = [mask]\n",
    "\n",
    "prepare_data = segm.prepare_data_fgbg_weigthed\n",
    "(out_x, weight_map), out_y = prepare_data(batch_x, batch_y, border_weight=6, separation_border_weight=20)\n",
    "\n",
    "print(out_x.shape, weight_map.shape, out_y.shape)\n",
    "print(np.min(weight_map), np.max(weight_map))\n",
    "\n",
    "plt.figure(figsize=(9, 4))\n",
    "plt.subplot(1, 3, 1)\n",
    "plt.imshow(out_x[0,...,0])\n",
    "plt.subplot(1, 3, 2)\n",
    "plt.imshow(weight_map[0,...])\n",
    "plt.subplot(1, 3, 3)\n",
    "plt.imshow(out_y[0,...,0])\n",
    "plt.show()"
   ]
  }
 ],
 "metadata": {
  "kernelspec": {
   "display_name": "Python 3",
   "language": "python",
   "name": "python3"
  },
  "language_info": {
   "codemirror_mode": {
    "name": "ipython",
    "version": 3
   },
   "file_extension": ".py",
   "mimetype": "text/x-python",
   "name": "python",
   "nbconvert_exporter": "python",
   "pygments_lexer": "ipython3",
   "version": "3.6.8"
  }
 },
 "nbformat": 4,
 "nbformat_minor": 2
}
