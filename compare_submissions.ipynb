{
 "cells": [
  {
   "cell_type": "code",
   "execution_count": 1,
   "metadata": {},
   "outputs": [
    {
     "name": "stderr",
     "output_type": "stream",
     "text": [
      "Using TensorFlow backend.\n"
     ]
    }
   ],
   "source": [
    "%load_ext autoreload\n",
    "%autoreload 2\n",
    "\n",
    "import os\n",
    "import tempfile\n",
    "\n",
    "from urllib import request\n",
    "import pandas as pd\n",
    "import numpy as np\n",
    "import seaborn as sns\n",
    "\n",
    "from keras_transfer_learning import data, utils"
   ]
  },
  {
   "cell_type": "markdown",
   "metadata": {},
   "source": [
    "# Prepare the ground truth"
   ]
  },
  {
   "cell_type": "code",
   "execution_count": 2,
   "metadata": {},
   "outputs": [],
   "source": [
    "# Load the ground truth\n",
    "# Create temp dir\n",
    "tempdir_obj = tempfile.TemporaryDirectory()\n",
    "tempdir = tempdir_obj.name\n",
    "\n",
    "# Load the ground truth for the test set\n",
    "csv_file_solution = os.path.join(tempdir, 'stage2_solution_final.csv')\n",
    "request.urlretrieve(\n",
    "    'https://data.broadinstitute.org/bbbc/BBBC038/stage2_solution_final.csv',\n",
    "    csv_file_solution)\n",
    "solution_df = pd.read_csv(csv_file_solution)\n",
    "# Do not use ignored files\n",
    "solution_df = solution_df[solution_df['Usage'] == 'Private']"
   ]
  },
  {
   "cell_type": "code",
   "execution_count": 3,
   "metadata": {},
   "outputs": [],
   "source": [
    "# Get the unique image ids\n",
    "image_ids = sorted(solution_df['ImageId'].unique())"
   ]
  },
  {
   "cell_type": "code",
   "execution_count": 4,
   "metadata": {},
   "outputs": [],
   "source": [
    "# Load the images\n",
    "test_imgs_list = data.utils._load_tifs_from_dir_sorted(os.path.join('data', 'dsb2018', 'test', 'images'))\n",
    "test_imgs = { k: v for k, v in zip(image_ids, test_imgs_list)}"
   ]
  },
  {
   "cell_type": "code",
   "execution_count": 5,
   "metadata": {},
   "outputs": [],
   "source": [
    "def decode_pixels_dsb2018(encoded_pixels_list, shape):\n",
    "    mask = np.zeros(shape, dtype='uint16')\n",
    "    for idx, pixels_str in enumerate(encoded_pixels_list, 1):\n",
    "        pixels = []\n",
    "        pixel_pairs = np.array(\n",
    "                [int(idx) for idx in pixels_str.split(' ')]\n",
    "            ).reshape(-1, 2)\n",
    "        # Change to zero index\n",
    "        pixel_pairs = pixel_pairs - [[1, 0]]\n",
    "        for pair in pixel_pairs:\n",
    "            pixels.extend(list(range(pair[0], pair[0] + pair[1])))\n",
    "\n",
    "        rows = np.mod(pixels, shape[0])\n",
    "        cols = np.floor_divide(pixels, shape[0])\n",
    "        if rows.size == 0:\n",
    "            print(\"WARNING: rows empty for test image {}.\".format(idx))\n",
    "            continue\n",
    "        if cols.size == 0:\n",
    "            print(\"WARNING: rows empty for test image {}.\".format(idx))\n",
    "            continue\n",
    "\n",
    "        elif np.any(mask[rows, cols] > 0):\n",
    "            print(\n",
    "                \"WARNING: Found overlapping cells in test image {}.\".format(idx))\n",
    "\n",
    "        mask[rows, cols] = idx\n",
    "    \n",
    "    return mask"
   ]
  },
  {
   "cell_type": "code",
   "execution_count": 6,
   "metadata": {},
   "outputs": [],
   "source": [
    "def reconstruct_masks(df, image_ids, images):\n",
    "    masks = {}\n",
    "    for image_id in image_ids:\n",
    "        enc_pixels_list = df[df['ImageId'] == image_id]['EncodedPixels'].tolist()\n",
    "        masks[image_id] = decode_pixels_dsb2018(enc_pixels_list, images[image_id].shape)\n",
    "    return masks"
   ]
  },
  {
   "cell_type": "code",
   "execution_count": 7,
   "metadata": {},
   "outputs": [],
   "source": [
    "# Loop over the images reconstruct the gt labelings\n",
    "solution_masks = reconstruct_masks(solution_df, image_ids, test_imgs)"
   ]
  },
  {
   "cell_type": "markdown",
   "metadata": {},
   "source": [
    "# Compute mAP for a submission"
   ]
  },
  {
   "cell_type": "code",
   "execution_count": 8,
   "metadata": {},
   "outputs": [],
   "source": [
    "def map_of_submission(file, iou_thresholds=None):\n",
    "    if iou_thresholds is None:\n",
    "        iou_thresholds = [0.50, 0.55, 0.60, 0.65, 0.70, 0.75, 0.80, 0.85, 0.90, 0.95]\n",
    "    # Load the submission\n",
    "    result_df = pd.read_csv(file)\n",
    "    # Create the predicted masks\n",
    "    result_masks = reconstruct_masks(result_df, image_ids, test_imgs)\n",
    "\n",
    "    # Compute the mAP\n",
    "    results_masks_list = [result_masks[k] for k in image_ids]\n",
    "    solution_masks_list = [solution_masks[k] for k in image_ids]\n",
    "    return utils.mean_average_precision.ap_segm(results_masks_list, solution_masks_list, iou_thresholds)"
   ]
  },
  {
   "cell_type": "code",
   "execution_count": 9,
   "metadata": {},
   "outputs": [
    {
     "data": {
      "image/png": "[encoded data removed]",
      "text/plain": [
       "<Figure size 432x288 with 1 Axes>"
      ]
     },
     "metadata": {
      "needs_background": "light"
     },
     "output_type": "display_data"
    }
   ],
   "source": [
    "mAPs_stardist = map_of_submission(os.path.join('models', 'C02_unet_stardist_dsb2018_R_F', 'submission.csv'))\n",
    "mAPs_2nd_place = map_of_submission(os.path.join('submission_dsb2018_2nd_place.csv'))\n",
    "mAPs_3rd_place = map_of_submission(os.path.join('submission_dsb2018_3rd_place.csv'))\n",
    "\n",
    "iou_thresholds = [0.50, 0.55, 0.60, 0.65, 0.70, 0.75, 0.80, 0.85, 0.90, 0.95]\n",
    "mAP = mAPs_stardist + mAPs_2nd_place + mAPs_3rd_place\n",
    "iou_threshold = iou_thresholds * 3\n",
    "experiment = ['stardist'] * len(iou_thresholds) + ['2nd'] * len(iou_thresholds) + ['3rd'] * len(iou_thresholds)\n",
    "df = pd.DataFrame({'experiment': experiment, 'mAP': mAP, 'iou_threshold': iou_threshold})\n",
    "\n",
    "plot = sns.lineplot(x='iou_threshold', y='mAP', hue='experiment', data=df)"
   ]
  }
 ],
 "metadata": {
  "kernelspec": {
   "display_name": "Python 3",
   "language": "python",
   "name": "python3"
  },
  "language_info": {
   "codemirror_mode": {
    "name": "ipython",
    "version": 3
   },
   "file_extension": ".py",
   "mimetype": "text/x-python",
   "name": "python",
   "nbconvert_exporter": "python",
   "pygments_lexer": "ipython3",
   "version": "3.6.8"
  }
 },
 "nbformat": 4,
 "nbformat_minor": 2
}
