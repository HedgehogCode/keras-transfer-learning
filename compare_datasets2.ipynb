{
 "cells": [
  {
   "cell_type": "code",
   "execution_count": 23,
   "metadata": {},
   "outputs": [
    {
     "name": "stdout",
     "output_type": "stream",
     "text": [
      "The autoreload extension is already loaded. To reload it, use:\n",
      "  %reload_ext autoreload\n"
     ]
    }
   ],
   "source": [
    "%load_ext autoreload\n",
    "%autoreload 2\n",
    "\n",
    "import os\n",
    "os.environ['CUDA_VISIBLE_DEVICES'] = ''\n",
    "\n",
    "import glob\n",
    "from yaml import unsafe_load as yaml_load\n",
    "import numpy as np\n",
    "import tqdm\n",
    "from skimage import measure\n",
    "import seaborn as sn\n",
    "import pandas as pd\n",
    "import matplotlib.pyplot as plt\n",
    "from scipy import linalg\n",
    "\n",
    "from keras import models\n",
    "\n",
    "from keras_transfer_learning import dataset, model\n",
    "from keras_transfer_learning.data import compare"
   ]
  },
  {
   "cell_type": "markdown",
   "metadata": {},
   "source": [
    "TODOs:\n",
    "\n",
    "* read https://arxiv.org/pdf/1805.12462.pdf"
   ]
  },
  {
   "cell_type": "code",
   "execution_count": 3,
   "metadata": {},
   "outputs": [
    {
     "name": "stdout",
     "output_type": "stream",
     "text": [
      "A00_unet_stardist_hl60-high-noise_P_002\n",
      "A00_unet_stardist_hl60-high-noise_P_005\n",
      "A00_unet_stardist_hl60-high-noise_P_010\n",
      "A00_unet_stardist_hl60-high-noise_P_050\n",
      "A00_unet_stardist_hl60-high-noise_P_200\n",
      "A00_unet_stardist_hl60-high-noise_R_002\n",
      "A00_unet_stardist_hl60-high-noise_R_005\n",
      "A00_unet_stardist_hl60-high-noise_R_010\n",
      "A00_unet_stardist_hl60-high-noise_R_050\n",
      "A00_unet_stardist_hl60-high-noise_R_200\n",
      "A00_unet_stardist_hl60-high-noise_R_F\n",
      "A00_unet_stardist_hl60-low-noise_P_002\n",
      "A00_unet_stardist_hl60-low-noise_P_005\n",
      "A00_unet_stardist_hl60-low-noise_P_010\n",
      "A00_unet_stardist_hl60-low-noise_P_050\n",
      "A00_unet_stardist_hl60-low-noise_P_200\n",
      "A00_unet_stardist_hl60-low-noise_R_002\n",
      "A00_unet_stardist_hl60-low-noise_R_005\n",
      "A00_unet_stardist_hl60-low-noise_R_010\n",
      "A00_unet_stardist_hl60-low-noise_R_050\n",
      "A00_unet_stardist_hl60-low-noise_R_200\n",
      "A00_unet_stardist_hl60-low-noise_R_F\n",
      "A01_unet_stardist_hl60-high-noise_P_002\n",
      "A01_unet_stardist_hl60-high-noise_P_005\n",
      "A01_unet_stardist_hl60-high-noise_P_010\n",
      "A01_unet_stardist_hl60-high-noise_P_050\n",
      "A01_unet_stardist_hl60-high-noise_P_200\n",
      "A01_unet_stardist_hl60-high-noise_R_002\n",
      "A01_unet_stardist_hl60-high-noise_R_005\n",
      "A01_unet_stardist_hl60-high-noise_R_010\n",
      "A01_unet_stardist_hl60-high-noise_R_050\n",
      "A01_unet_stardist_hl60-high-noise_R_200\n",
      "A01_unet_stardist_hl60-high-noise_R_F\n",
      "A01_unet_stardist_hl60-low-noise_P_002\n",
      "A01_unet_stardist_hl60-low-noise_P_005\n",
      "A01_unet_stardist_hl60-low-noise_P_010\n",
      "A01_unet_stardist_hl60-low-noise_P_050\n",
      "A01_unet_stardist_hl60-low-noise_P_200\n",
      "A01_unet_stardist_hl60-low-noise_R_002\n",
      "A01_unet_stardist_hl60-low-noise_R_005\n",
      "A01_unet_stardist_hl60-low-noise_R_010\n",
      "A01_unet_stardist_hl60-low-noise_R_050\n",
      "A01_unet_stardist_hl60-low-noise_R_200\n",
      "A01_unet_stardist_hl60-low-noise_R_F\n",
      "A02_unet_stardist_hl60-high-noise_P_002\n",
      "A02_unet_stardist_hl60-high-noise_P_005\n",
      "A02_unet_stardist_hl60-high-noise_P_010\n",
      "A02_unet_stardist_hl60-high-noise_P_050\n",
      "A02_unet_stardist_hl60-high-noise_P_200\n",
      "A02_unet_stardist_hl60-high-noise_R_002\n",
      "A02_unet_stardist_hl60-high-noise_R_005\n",
      "A02_unet_stardist_hl60-high-noise_R_010\n",
      "A02_unet_stardist_hl60-high-noise_R_050\n",
      "A02_unet_stardist_hl60-high-noise_R_200\n",
      "A02_unet_stardist_hl60-high-noise_R_F\n",
      "A02_unet_stardist_hl60-low-noise_P_002\n",
      "A02_unet_stardist_hl60-low-noise_P_005\n",
      "A02_unet_stardist_hl60-low-noise_P_010\n",
      "A02_unet_stardist_hl60-low-noise_P_050\n",
      "A02_unet_stardist_hl60-low-noise_P_200\n",
      "A02_unet_stardist_hl60-low-noise_R_002\n",
      "A02_unet_stardist_hl60-low-noise_R_005\n",
      "A02_unet_stardist_hl60-low-noise_R_010\n",
      "A02_unet_stardist_hl60-low-noise_R_050\n",
      "A02_unet_stardist_hl60-low-noise_R_200\n",
      "A02_unet_stardist_hl60-low-noise_R_F\n",
      "A03_unet_stardist_hl60-high-noise_P_002\n",
      "A03_unet_stardist_hl60-high-noise_P_005\n",
      "A03_unet_stardist_hl60-high-noise_P_010\n",
      "A03_unet_stardist_hl60-high-noise_P_050\n",
      "A03_unet_stardist_hl60-high-noise_P_200\n",
      "A03_unet_stardist_hl60-high-noise_R_002\n",
      "A03_unet_stardist_hl60-high-noise_R_005\n",
      "A03_unet_stardist_hl60-high-noise_R_010\n",
      "A03_unet_stardist_hl60-high-noise_R_050\n",
      "A03_unet_stardist_hl60-high-noise_R_200\n",
      "A03_unet_stardist_hl60-high-noise_R_F\n",
      "A03_unet_stardist_hl60-low-noise_P_002\n",
      "A03_unet_stardist_hl60-low-noise_P_005\n",
      "A03_unet_stardist_hl60-low-noise_P_010\n",
      "A03_unet_stardist_hl60-low-noise_P_050\n",
      "A03_unet_stardist_hl60-low-noise_P_200\n",
      "A03_unet_stardist_hl60-low-noise_R_002\n",
      "A03_unet_stardist_hl60-low-noise_R_005\n",
      "A03_unet_stardist_hl60-low-noise_R_010\n",
      "A03_unet_stardist_hl60-low-noise_R_050\n",
      "A03_unet_stardist_hl60-low-noise_R_200\n",
      "A03_unet_stardist_hl60-low-noise_R_F\n",
      "A04_unet_stardist_hl60-high-noise_P_002\n",
      "A04_unet_stardist_hl60-high-noise_P_005\n",
      "A04_unet_stardist_hl60-high-noise_P_010\n",
      "A04_unet_stardist_hl60-high-noise_P_050\n",
      "A04_unet_stardist_hl60-high-noise_P_200\n",
      "A04_unet_stardist_hl60-high-noise_R_002\n",
      "A04_unet_stardist_hl60-high-noise_R_005\n",
      "A04_unet_stardist_hl60-high-noise_R_010\n",
      "A04_unet_stardist_hl60-high-noise_R_050\n",
      "A04_unet_stardist_hl60-high-noise_R_200\n",
      "A04_unet_stardist_hl60-high-noise_R_F\n",
      "A04_unet_stardist_hl60-low-noise_P_002\n",
      "A04_unet_stardist_hl60-low-noise_P_005\n",
      "A04_unet_stardist_hl60-low-noise_P_010\n",
      "A04_unet_stardist_hl60-low-noise_P_050\n",
      "A04_unet_stardist_hl60-low-noise_P_200\n",
      "A04_unet_stardist_hl60-low-noise_R_002\n",
      "A04_unet_stardist_hl60-low-noise_R_005\n",
      "A04_unet_stardist_hl60-low-noise_R_010\n",
      "A04_unet_stardist_hl60-low-noise_R_050\n",
      "A04_unet_stardist_hl60-low-noise_R_200\n",
      "A04_unet_stardist_hl60-low-noise_R_F\n",
      "B00_unet_stardist_granulocyte_P_002\n",
      "B00_unet_stardist_granulocyte_P_005\n",
      "B00_unet_stardist_granulocyte_P_010\n",
      "B00_unet_stardist_granulocyte_P_050\n",
      "B00_unet_stardist_granulocyte_P_200\n",
      "B00_unet_stardist_granulocyte_R_002\n",
      "B00_unet_stardist_granulocyte_R_005\n",
      "B00_unet_stardist_granulocyte_R_010\n",
      "B00_unet_stardist_granulocyte_R_050\n",
      "B00_unet_stardist_granulocyte_R_200\n",
      "B00_unet_stardist_granulocyte_R_F\n",
      "B00_unet_stardist_hl60-low-noise_P_002\n",
      "B00_unet_stardist_hl60-low-noise_P_005\n",
      "B00_unet_stardist_hl60-low-noise_P_010\n",
      "B00_unet_stardist_hl60-low-noise_P_050\n",
      "B00_unet_stardist_hl60-low-noise_P_200\n",
      "B00_unet_stardist_hl60-low-noise_R_002\n",
      "B00_unet_stardist_hl60-low-noise_R_005\n",
      "B00_unet_stardist_hl60-low-noise_R_010\n",
      "B00_unet_stardist_hl60-low-noise_R_050\n",
      "B00_unet_stardist_hl60-low-noise_R_200\n",
      "B00_unet_stardist_hl60-low-noise_R_F\n",
      "B01_unet_stardist_granulocyte_P_002\n",
      "B01_unet_stardist_granulocyte_P_005\n",
      "B01_unet_stardist_granulocyte_P_010\n",
      "B01_unet_stardist_granulocyte_P_050\n",
      "B01_unet_stardist_granulocyte_P_200\n",
      "B01_unet_stardist_granulocyte_R_002\n",
      "B01_unet_stardist_granulocyte_R_005\n",
      "B01_unet_stardist_granulocyte_R_010\n",
      "B01_unet_stardist_granulocyte_R_050\n",
      "B01_unet_stardist_granulocyte_R_200\n",
      "B01_unet_stardist_granulocyte_R_F\n",
      "B01_unet_stardist_hl60-low-noise_P_002\n",
      "B01_unet_stardist_hl60-low-noise_P_005\n",
      "B01_unet_stardist_hl60-low-noise_P_010\n",
      "B01_unet_stardist_hl60-low-noise_P_050\n",
      "B01_unet_stardist_hl60-low-noise_P_200\n",
      "B01_unet_stardist_hl60-low-noise_R_002\n",
      "B01_unet_stardist_hl60-low-noise_R_005\n",
      "B01_unet_stardist_hl60-low-noise_R_010\n",
      "B01_unet_stardist_hl60-low-noise_R_050\n",
      "B01_unet_stardist_hl60-low-noise_R_200\n",
      "B01_unet_stardist_hl60-low-noise_R_F\n",
      "B02_unet_stardist_granulocyte_P_002\n",
      "B02_unet_stardist_granulocyte_P_005\n",
      "B02_unet_stardist_granulocyte_P_010\n",
      "B02_unet_stardist_granulocyte_P_050\n",
      "B02_unet_stardist_granulocyte_P_200\n",
      "B02_unet_stardist_granulocyte_R_002\n",
      "B02_unet_stardist_granulocyte_R_005\n",
      "B02_unet_stardist_granulocyte_R_010\n",
      "B02_unet_stardist_granulocyte_R_050\n",
      "B02_unet_stardist_granulocyte_R_200\n",
      "B02_unet_stardist_granulocyte_R_F\n",
      "B02_unet_stardist_hl60-low-noise_P_002\n",
      "B02_unet_stardist_hl60-low-noise_P_005\n",
      "B02_unet_stardist_hl60-low-noise_P_010\n",
      "B02_unet_stardist_hl60-low-noise_P_050\n",
      "B02_unet_stardist_hl60-low-noise_P_200\n",
      "B02_unet_stardist_hl60-low-noise_R_002\n",
      "B02_unet_stardist_hl60-low-noise_R_005\n",
      "B02_unet_stardist_hl60-low-noise_R_010\n",
      "B02_unet_stardist_hl60-low-noise_R_050\n",
      "B02_unet_stardist_hl60-low-noise_R_200\n",
      "B02_unet_stardist_hl60-low-noise_R_F\n",
      "B03_unet_stardist_granulocyte_P_002\n",
      "B03_unet_stardist_granulocyte_P_005\n",
      "B03_unet_stardist_granulocyte_P_010\n",
      "B03_unet_stardist_granulocyte_P_050\n",
      "B03_unet_stardist_granulocyte_P_200\n",
      "B03_unet_stardist_granulocyte_R_002\n",
      "B03_unet_stardist_granulocyte_R_005\n",
      "B03_unet_stardist_granulocyte_R_010\n",
      "B03_unet_stardist_granulocyte_R_050\n",
      "B03_unet_stardist_granulocyte_R_200\n",
      "B03_unet_stardist_granulocyte_R_F\n",
      "B03_unet_stardist_hl60-low-noise_P_002\n",
      "B03_unet_stardist_hl60-low-noise_P_005\n",
      "B03_unet_stardist_hl60-low-noise_P_010\n",
      "B03_unet_stardist_hl60-low-noise_P_050\n",
      "B03_unet_stardist_hl60-low-noise_P_200\n",
      "B03_unet_stardist_hl60-low-noise_R_002\n",
      "B03_unet_stardist_hl60-low-noise_R_005\n",
      "B03_unet_stardist_hl60-low-noise_R_010\n",
      "B03_unet_stardist_hl60-low-noise_R_050\n",
      "B03_unet_stardist_hl60-low-noise_R_200\n",
      "B03_unet_stardist_hl60-low-noise_R_F\n",
      "B04_unet_stardist_granulocyte_P_002\n",
      "B04_unet_stardist_granulocyte_P_005\n",
      "B04_unet_stardist_granulocyte_P_010\n",
      "B04_unet_stardist_granulocyte_P_050\n",
      "B04_unet_stardist_granulocyte_P_200\n",
      "B04_unet_stardist_granulocyte_R_002\n",
      "B04_unet_stardist_granulocyte_R_005\n",
      "B04_unet_stardist_granulocyte_R_010\n",
      "B04_unet_stardist_granulocyte_R_050\n",
      "B04_unet_stardist_granulocyte_R_200\n",
      "B04_unet_stardist_granulocyte_R_F\n",
      "B04_unet_stardist_hl60-low-noise_P_002\n",
      "B04_unet_stardist_hl60-low-noise_P_005\n",
      "B04_unet_stardist_hl60-low-noise_P_010\n",
      "B04_unet_stardist_hl60-low-noise_P_050\n",
      "B04_unet_stardist_hl60-low-noise_P_200\n",
      "B04_unet_stardist_hl60-low-noise_R_002\n",
      "B04_unet_stardist_hl60-low-noise_R_005\n",
      "B04_unet_stardist_hl60-low-noise_R_010\n",
      "B04_unet_stardist_hl60-low-noise_R_050\n",
      "B04_unet_stardist_hl60-low-noise_R_200\n",
      "B04_unet_stardist_hl60-low-noise_R_F\n",
      "C00_unet_stardist_dsb2018_P_002\n",
      "C00_unet_stardist_dsb2018_P_005\n",
      "C00_unet_stardist_dsb2018_P_010\n",
      "C00_unet_stardist_dsb2018_P_050\n",
      "C00_unet_stardist_dsb2018_P_200\n",
      "C00_unet_stardist_dsb2018_R_002\n",
      "C00_unet_stardist_dsb2018_R_005\n",
      "C00_unet_stardist_dsb2018_R_010\n",
      "C00_unet_stardist_dsb2018_R_050\n",
      "C00_unet_stardist_dsb2018_R_200\n",
      "C00_unet_stardist_dsb2018_R_F\n",
      "C00_unet_stardist_granulocyte_P_002\n",
      "C00_unet_stardist_granulocyte_P_005\n",
      "C00_unet_stardist_granulocyte_P_010\n",
      "C00_unet_stardist_granulocyte_P_050\n",
      "C00_unet_stardist_granulocyte_P_200\n",
      "C00_unet_stardist_granulocyte_R_002\n",
      "C00_unet_stardist_granulocyte_R_005\n",
      "C00_unet_stardist_granulocyte_R_010\n",
      "C00_unet_stardist_granulocyte_R_050\n",
      "C00_unet_stardist_granulocyte_R_200\n",
      "C00_unet_stardist_granulocyte_R_F\n",
      "C01_unet_stardist_dsb2018_P_002\n",
      "C01_unet_stardist_dsb2018_P_005\n",
      "C01_unet_stardist_dsb2018_P_010\n",
      "C01_unet_stardist_dsb2018_P_050\n",
      "C01_unet_stardist_dsb2018_P_200\n",
      "C01_unet_stardist_dsb2018_R_002\n",
      "C01_unet_stardist_dsb2018_R_005\n",
      "C01_unet_stardist_dsb2018_R_010\n",
      "C01_unet_stardist_dsb2018_R_050\n",
      "C01_unet_stardist_dsb2018_R_200\n",
      "C01_unet_stardist_dsb2018_R_F\n",
      "C01_unet_stardist_granulocyte_P_002\n",
      "C01_unet_stardist_granulocyte_P_005\n",
      "C01_unet_stardist_granulocyte_P_010\n",
      "C01_unet_stardist_granulocyte_P_050\n",
      "C01_unet_stardist_granulocyte_P_200\n",
      "C01_unet_stardist_granulocyte_R_002\n",
      "C01_unet_stardist_granulocyte_R_005\n",
      "C01_unet_stardist_granulocyte_R_010\n",
      "C01_unet_stardist_granulocyte_R_050\n",
      "C01_unet_stardist_granulocyte_R_200\n",
      "C01_unet_stardist_granulocyte_R_F\n",
      "C02_unet_stardist_dsb2018_P_002\n",
      "C02_unet_stardist_dsb2018_P_005\n",
      "C02_unet_stardist_dsb2018_P_010\n",
      "C02_unet_stardist_dsb2018_P_050\n",
      "C02_unet_stardist_dsb2018_P_200\n",
      "C02_unet_stardist_dsb2018_R_002\n",
      "C02_unet_stardist_dsb2018_R_005\n",
      "C02_unet_stardist_dsb2018_R_010\n",
      "C02_unet_stardist_dsb2018_R_050\n",
      "C02_unet_stardist_dsb2018_R_200\n",
      "C02_unet_stardist_dsb2018_R_F\n",
      "C02_unet_stardist_granulocyte_P_002\n",
      "C02_unet_stardist_granulocyte_P_005\n",
      "C02_unet_stardist_granulocyte_P_010\n",
      "C02_unet_stardist_granulocyte_P_050\n",
      "C02_unet_stardist_granulocyte_P_200\n",
      "C02_unet_stardist_granulocyte_R_002\n",
      "C02_unet_stardist_granulocyte_R_005\n",
      "C02_unet_stardist_granulocyte_R_010\n",
      "C02_unet_stardist_granulocyte_R_050\n",
      "C02_unet_stardist_granulocyte_R_200\n",
      "C02_unet_stardist_granulocyte_R_F\n",
      "C03_unet_stardist_dsb2018_P_002\n",
      "C03_unet_stardist_dsb2018_P_005\n",
      "C03_unet_stardist_dsb2018_P_010\n",
      "C03_unet_stardist_dsb2018_P_050\n",
      "C03_unet_stardist_dsb2018_P_200\n",
      "C03_unet_stardist_dsb2018_R_002\n",
      "C03_unet_stardist_dsb2018_R_005\n",
      "C03_unet_stardist_dsb2018_R_010\n",
      "C03_unet_stardist_dsb2018_R_050\n",
      "C03_unet_stardist_dsb2018_R_200\n",
      "C03_unet_stardist_dsb2018_R_F\n",
      "C03_unet_stardist_granulocyte_P_002\n",
      "C03_unet_stardist_granulocyte_P_005\n",
      "C03_unet_stardist_granulocyte_P_010\n",
      "C03_unet_stardist_granulocyte_P_050\n",
      "C03_unet_stardist_granulocyte_P_200\n",
      "C03_unet_stardist_granulocyte_R_002\n",
      "C03_unet_stardist_granulocyte_R_005\n",
      "C03_unet_stardist_granulocyte_R_010\n",
      "C03_unet_stardist_granulocyte_R_050\n",
      "C03_unet_stardist_granulocyte_R_200\n",
      "C03_unet_stardist_granulocyte_R_F\n",
      "C04_unet_stardist_dsb2018_P_002\n",
      "C04_unet_stardist_dsb2018_P_005\n",
      "C04_unet_stardist_dsb2018_P_010\n",
      "C04_unet_stardist_dsb2018_P_050\n",
      "C04_unet_stardist_dsb2018_P_200\n",
      "C04_unet_stardist_dsb2018_R_002\n",
      "C04_unet_stardist_dsb2018_R_005\n",
      "C04_unet_stardist_dsb2018_R_010\n",
      "C04_unet_stardist_dsb2018_R_050\n",
      "C04_unet_stardist_dsb2018_R_200\n",
      "C04_unet_stardist_dsb2018_R_F\n",
      "C04_unet_stardist_granulocyte_P_002\n",
      "C04_unet_stardist_granulocyte_P_005\n",
      "C04_unet_stardist_granulocyte_P_010\n",
      "C04_unet_stardist_granulocyte_P_050\n",
      "C04_unet_stardist_granulocyte_P_200\n",
      "C04_unet_stardist_granulocyte_R_002\n",
      "C04_unet_stardist_granulocyte_R_005\n",
      "C04_unet_stardist_granulocyte_R_010\n",
      "C04_unet_stardist_granulocyte_R_050\n",
      "C04_unet_stardist_granulocyte_R_200\n",
      "C04_unet_stardist_granulocyte_R_F\n",
      "D00_resnet-unet_segm_cityscapes_P_002\n",
      "D00_resnet-unet_segm_cityscapes_P_005\n",
      "D00_resnet-unet_segm_cityscapes_P_010\n",
      "D00_resnet-unet_segm_cityscapes_P_050\n",
      "D00_resnet-unet_segm_cityscapes_P_200\n",
      "D00_resnet-unet_segm_cityscapes_R_002\n",
      "D00_resnet-unet_segm_cityscapes_R_005\n",
      "D00_resnet-unet_segm_cityscapes_R_010\n",
      "D00_resnet-unet_segm_cityscapes_R_050\n",
      "D00_resnet-unet_segm_cityscapes_R_200\n",
      "D00_resnet-unet_segm_cityscapes_R_F\n",
      "D00_resnet-unet_stardist_hl60-low-noise_P_002\n",
      "D00_resnet-unet_stardist_hl60-low-noise_P_005\n",
      "D00_resnet-unet_stardist_hl60-low-noise_P_010\n",
      "D00_resnet-unet_stardist_hl60-low-noise_P_050\n",
      "D00_resnet-unet_stardist_hl60-low-noise_P_200\n",
      "D00_resnet-unet_stardist_hl60-low-noise_R_002\n",
      "D00_resnet-unet_stardist_hl60-low-noise_R_005\n",
      "D00_resnet-unet_stardist_hl60-low-noise_R_010\n",
      "D00_resnet-unet_stardist_hl60-low-noise_R_050\n",
      "D00_resnet-unet_stardist_hl60-low-noise_R_200\n",
      "D00_resnet-unet_stardist_hl60-low-noise_R_F\n",
      "E00_resnet-unet_segm_cityscapes_P_002\n",
      "E00_resnet-unet_segm_cityscapes_P_005\n",
      "E00_resnet-unet_segm_cityscapes_P_010\n",
      "E00_resnet-unet_segm_cityscapes_P_050\n",
      "E00_resnet-unet_segm_cityscapes_P_200\n",
      "E00_resnet-unet_segm_cityscapes_R_002\n",
      "E00_resnet-unet_segm_cityscapes_R_005\n",
      "E00_resnet-unet_segm_cityscapes_R_010\n",
      "E00_resnet-unet_segm_cityscapes_R_050\n",
      "E00_resnet-unet_segm_cityscapes_R_200\n",
      "E00_resnet-unet_segm_cityscapes_R_F\n",
      "E00_resnet-unet_stardist_dsb2018_P_002\n",
      "E00_resnet-unet_stardist_dsb2018_P_005\n",
      "E00_resnet-unet_stardist_dsb2018_P_010\n",
      "E00_resnet-unet_stardist_dsb2018_P_050\n",
      "E00_resnet-unet_stardist_dsb2018_P_200\n",
      "E00_resnet-unet_stardist_dsb2018_R_002\n",
      "E00_resnet-unet_stardist_dsb2018_R_005\n",
      "E00_resnet-unet_stardist_dsb2018_R_010\n",
      "E00_resnet-unet_stardist_dsb2018_R_050\n",
      "E00_resnet-unet_stardist_dsb2018_R_200\n",
      "E00_resnet-unet_stardist_dsb2018_R_F\n",
      "F00_resnet-unet-big_fgbg-weighted_dsb2018_R_F\n",
      "G00_resnet-unet_fgbg-weighted_dsb2018_P_002\n",
      "G00_resnet-unet_fgbg-weighted_dsb2018_P_005\n",
      "G00_resnet-unet_fgbg-weighted_dsb2018_P_010\n",
      "G00_resnet-unet_fgbg-weighted_dsb2018_P_050\n",
      "G00_resnet-unet_fgbg-weighted_dsb2018_P_200\n",
      "G00_resnet-unet_fgbg-weighted_dsb2018_R_002\n",
      "G00_resnet-unet_fgbg-weighted_dsb2018_R_005\n",
      "G00_resnet-unet_fgbg-weighted_dsb2018_R_010\n",
      "G00_resnet-unet_fgbg-weighted_dsb2018_R_050\n",
      "G00_resnet-unet_fgbg-weighted_dsb2018_R_200\n",
      "G00_resnet-unet_fgbg-weighted_dsb2018_R_F\n",
      "G00_resnet-unet_fgbg-weighted_granulocyte_P_002\n",
      "G00_resnet-unet_fgbg-weighted_granulocyte_P_005\n",
      "G00_resnet-unet_fgbg-weighted_granulocyte_P_010\n",
      "G00_resnet-unet_fgbg-weighted_granulocyte_P_050\n",
      "G00_resnet-unet_fgbg-weighted_granulocyte_P_200\n",
      "G00_resnet-unet_fgbg-weighted_granulocyte_R_002\n",
      "G00_resnet-unet_fgbg-weighted_granulocyte_R_005\n",
      "G00_resnet-unet_fgbg-weighted_granulocyte_R_010\n",
      "G00_resnet-unet_fgbg-weighted_granulocyte_R_050\n",
      "G00_resnet-unet_fgbg-weighted_granulocyte_R_200\n",
      "G00_resnet-unet_fgbg-weighted_granulocyte_R_F\n",
      "Z00__unet-csbeep_stardist_hl60-high_R_F\n",
      "Z00_resnet-unet_fgbg-weighted_stardist-dsb2018_R_F\n",
      "Z00_resnet-unet_stardist_stardist-dsb2018_R_F\n",
      "Z00_unet-csbdeep_fgbg-weighted_dsb2018-dataaug-2_R_F\n",
      "Z00_unet-csbdeep_fgbg-weighted_dsb2018-dataaug_R_F\n",
      "Z00_unet-csbdeep_fgbg-weighted_dsb2018_R_F\n",
      "Z00_unet-csbdeep_fgbg-weighted_granulocyte_R_F\n",
      "Z00_unet-csbdeep_fgbg-weighted_stardist-dsb2018_R_F\n",
      "Z00_unet-csbdeep_stardist_hl60-high-noise_R_F\n",
      "Z00_unet-csbdeep_stardist_hl60-low-noise_R_F\n",
      "Z00_unet-csbdeep_stardist_stardist-dsb2018_R_F\n",
      "Z00_unet-csbeep_fgbg_hl60-high_R_F\n"
     ]
    }
   ],
   "source": [
    "print('\\n'.join(sorted([f.rpartition(os.path.sep)[-1] for f in glob.glob(os.path.join('.', 'models', '*'))])))"
   ]
  },
  {
   "cell_type": "code",
   "execution_count": 4,
   "metadata": {},
   "outputs": [],
   "source": [
    "model_name = 'A00_unet_stardist_hl60-high-noise_R_F'"
   ]
  },
  {
   "cell_type": "code",
   "execution_count": 5,
   "metadata": {},
   "outputs": [
    {
     "name": "stdout",
     "output_type": "stream",
     "text": [
      "WARNING:tensorflow:From /home/benjamin/miniconda3/envs/bachelorthesis/lib/python3.6/site-packages/tensorflow/python/framework/op_def_library.py:263: colocate_with (from tensorflow.python.framework.ops) is deprecated and will be removed in a future version.\n",
      "Instructions for updating:\n",
      "Colocations handled automatically by placer.\n"
     ]
    }
   ],
   "source": [
    "model_dir = os.path.join('.', 'models', model_name)\n",
    "m = model.Model(model_dir=model_dir, load_weights='last')"
   ]
  },
  {
   "cell_type": "markdown",
   "metadata": {},
   "source": [
    "## Create the feature model"
   ]
  },
  {
   "cell_type": "code",
   "execution_count": 6,
   "metadata": {},
   "outputs": [],
   "source": [
    "def model_up_to_layer(keras_model, layer_name):\n",
    "    for l in keras_model.layers:\n",
    "        if l.name == layer_name:\n",
    "            break\n",
    "    return models.Model(keras_model.input, l.output)\n",
    "\n",
    "feature_model = model_up_to_layer(m.model, 'activation_1')\n",
    "features_size = feature_model.output.shape[-1].value"
   ]
  },
  {
   "cell_type": "markdown",
   "metadata": {},
   "source": [
    "## Compute the mean and var for model data"
   ]
  },
  {
   "cell_type": "code",
   "execution_count": 7,
   "metadata": {},
   "outputs": [],
   "source": [
    "d = dataset.Dataset(m.config)\n",
    "x_test, _ = d.create_test_dataset()"
   ]
  },
  {
   "cell_type": "code",
   "execution_count": 21,
   "metadata": {},
   "outputs": [],
   "source": [
    "def get_mgf(data, limit=20):\n",
    "    if limit is not None:\n",
    "        data = [data[i] for i in np.random.permutation(len(data))[:limit]]\n",
    "    \n",
    "    features_list = []\n",
    "    for img in tqdm.tqdm(data):\n",
    "        pred = feature_model.predict(img[None, ..., None])\n",
    "        features_list.append(np.reshape(pred, (-1, features_size)))\n",
    "\n",
    "    features = np.concatenate(features_list)\n",
    "    mean = np.mean(features, axis=0)\n",
    "    cov = np.cov(features, rowvar=0)\n",
    "    return mean, cov"
   ]
  },
  {
   "cell_type": "code",
   "execution_count": 11,
   "metadata": {},
   "outputs": [
    {
     "name": "stderr",
     "output_type": "stream",
     "text": [
      "100%|██████████| 20/20 [00:45<00:00,  2.29s/it]\n"
     ]
    }
   ],
   "source": [
    "mean, cov = get_mgf(x_test)"
   ]
  },
  {
   "cell_type": "code",
   "execution_count": 30,
   "metadata": {},
   "outputs": [
    {
     "name": "stderr",
     "output_type": "stream",
     "text": [
      "\n",
      "  0%|          | 0/20 [00:00<?, ?it/s]\u001b[A\n",
      "  5%|▌         | 1/20 [00:02<00:50,  2.67s/it]\u001b[A\n",
      " 10%|█         | 2/20 [00:04<00:41,  2.28s/it]\u001b[A\n",
      " 15%|█▌        | 3/20 [00:05<00:34,  2.05s/it]\u001b[A\n",
      " 20%|██        | 4/20 [00:06<00:29,  1.85s/it]\u001b[A\n",
      " 25%|██▌       | 5/20 [00:08<00:26,  1.74s/it]\u001b[A\n",
      " 30%|███       | 6/20 [00:09<00:23,  1.65s/it]\u001b[A\n",
      " 35%|███▌      | 7/20 [00:11<00:20,  1.57s/it]\u001b[A\n",
      " 40%|████      | 8/20 [00:12<00:18,  1.51s/it]\u001b[A\n",
      " 45%|████▌     | 9/20 [00:13<00:16,  1.47s/it]\u001b[A\n",
      " 50%|█████     | 10/20 [00:15<00:14,  1.47s/it]\u001b[A\n",
      " 55%|█████▌    | 11/20 [00:16<00:12,  1.44s/it]\u001b[A\n",
      " 60%|██████    | 12/20 [00:18<00:11,  1.42s/it]\u001b[A\n",
      " 65%|██████▌   | 13/20 [00:19<00:10,  1.44s/it]\u001b[A\n",
      " 70%|███████   | 14/20 [00:21<00:08,  1.42s/it]\u001b[A\n",
      " 75%|███████▌  | 15/20 [00:22<00:07,  1.42s/it]\u001b[A\n",
      " 80%|████████  | 16/20 [00:23<00:05,  1.41s/it]\u001b[A\n",
      " 85%|████████▌ | 17/20 [00:25<00:04,  1.40s/it]\u001b[A\n",
      " 90%|█████████ | 18/20 [00:26<00:02,  1.39s/it]\u001b[A\n",
      " 95%|█████████▌| 19/20 [00:28<00:01,  1.39s/it]\u001b[A\n",
      "100%|██████████| 20/20 [00:29<00:00,  1.39s/it]\u001b[A"
     ]
    }
   ],
   "source": [
    "mean_1, cov_1 = get_mgf(x_test)"
   ]
  },
  {
   "cell_type": "markdown",
   "metadata": {},
   "source": [
    "## Compute the mean and var for other data"
   ]
  },
  {
   "cell_type": "code",
   "execution_count": 17,
   "metadata": {},
   "outputs": [],
   "source": [
    "with open(os.path.join('configs', 'data', 'dsb2018.yaml'), 'r') as f:\n",
    "    new_data_conf = { 'data': yaml_load(f) }\n",
    "new_d = dataset.Dataset(new_data_conf)\n",
    "new_x_test, _ = new_d.create_test_dataset()"
   ]
  },
  {
   "cell_type": "code",
   "execution_count": 22,
   "metadata": {
    "scrolled": false
   },
   "outputs": [
    {
     "name": "stderr",
     "output_type": "stream",
     "text": [
      "\n",
      "  0%|          | 0/20 [00:00<?, ?it/s]\u001b[A\n",
      "  5%|▌         | 1/20 [00:01<00:32,  1.73s/it]\u001b[A\n",
      " 10%|█         | 2/20 [00:05<00:44,  2.48s/it]\u001b[A\n",
      " 15%|█▌        | 3/20 [00:07<00:35,  2.10s/it]\u001b[A\n",
      " 20%|██        | 4/20 [00:11<00:44,  2.78s/it]\u001b[A\n",
      " 25%|██▌       | 5/20 [00:15<00:47,  3.15s/it]\u001b[A\n",
      " 30%|███       | 6/20 [00:18<00:44,  3.14s/it]\u001b[A\n",
      " 35%|███▌      | 7/20 [00:20<00:34,  2.68s/it]\u001b[A\n",
      " 40%|████      | 8/20 [00:21<00:26,  2.20s/it]\u001b[A\n",
      " 45%|████▌     | 9/20 [00:25<00:30,  2.76s/it]\u001b[A\n",
      " 50%|█████     | 10/20 [00:27<00:24,  2.42s/it]\u001b[A\n",
      " 55%|█████▌    | 11/20 [00:27<00:16,  1.87s/it]\u001b[A\n",
      " 60%|██████    | 12/20 [00:29<00:14,  1.79s/it]\u001b[A\n",
      " 65%|██████▌   | 13/20 [00:33<00:17,  2.46s/it]\u001b[A\n",
      " 70%|███████   | 14/20 [00:37<00:17,  2.97s/it]\u001b[A\n",
      " 75%|███████▌  | 15/20 [00:39<00:12,  2.56s/it]\u001b[A\n",
      " 80%|████████  | 16/20 [00:41<00:10,  2.52s/it]\u001b[A\n",
      " 85%|████████▌ | 17/20 [00:45<00:09,  3.11s/it]\u001b[A\n",
      " 90%|█████████ | 18/20 [00:47<00:05,  2.65s/it]\u001b[A\n",
      " 95%|█████████▌| 19/20 [00:48<00:02,  2.10s/it]\u001b[A\n",
      "100%|██████████| 20/20 [00:51<00:00,  2.45s/it]\u001b[A"
     ]
    }
   ],
   "source": [
    "new_mean, new_cov = get_mgf(new_x_test)"
   ]
  },
  {
   "cell_type": "code",
   "execution_count": 32,
   "metadata": {},
   "outputs": [
    {
     "name": "stderr",
     "output_type": "stream",
     "text": [
      "\n",
      "  0%|          | 0/20 [00:00<?, ?it/s]\u001b[A\n",
      "  5%|▌         | 1/20 [00:02<00:44,  2.34s/it]\u001b[A\n",
      " 10%|█         | 2/20 [00:04<00:40,  2.24s/it]\u001b[A\n",
      " 15%|█▌        | 3/20 [00:04<00:29,  1.73s/it]\u001b[A\n",
      " 20%|██        | 4/20 [00:07<00:29,  1.87s/it]\u001b[A\n",
      " 25%|██▌       | 5/20 [00:08<00:26,  1.77s/it]\u001b[A\n",
      " 30%|███       | 6/20 [00:10<00:26,  1.89s/it]\u001b[A\n",
      " 35%|███▌      | 7/20 [00:12<00:25,  1.95s/it]\u001b[A\n",
      " 40%|████      | 8/20 [00:15<00:24,  2.00s/it]\u001b[A\n",
      " 45%|████▌     | 9/20 [00:17<00:22,  2.04s/it]\u001b[A\n",
      " 50%|█████     | 10/20 [00:17<00:15,  1.58s/it]\u001b[A\n",
      " 55%|█████▌    | 11/20 [00:19<00:15,  1.74s/it]\u001b[A\n",
      " 60%|██████    | 12/20 [00:21<00:14,  1.85s/it]\u001b[A\n",
      " 65%|██████▌   | 13/20 [00:23<00:13,  1.93s/it]\u001b[A\n",
      " 70%|███████   | 14/20 [00:26<00:11,  1.98s/it]\u001b[A\n",
      " 75%|███████▌  | 15/20 [00:27<00:09,  1.85s/it]\u001b[A\n",
      " 80%|████████  | 16/20 [00:28<00:06,  1.53s/it]\u001b[A\n",
      " 85%|████████▌ | 17/20 [00:29<00:03,  1.30s/it]\u001b[A\n",
      " 90%|█████████ | 18/20 [00:29<00:02,  1.07s/it]\u001b[A\n",
      " 95%|█████████▌| 19/20 [00:31<00:01,  1.39s/it]\u001b[A\n",
      "100%|██████████| 20/20 [00:32<00:00,  1.09s/it]\u001b[A"
     ]
    }
   ],
   "source": [
    "new_mean_1, new_cov_1 = get_mgf(new_x_test)"
   ]
  },
  {
   "cell_type": "markdown",
   "metadata": {},
   "source": [
    "## Compute the distance"
   ]
  },
  {
   "cell_type": "code",
   "execution_count": 27,
   "metadata": {},
   "outputs": [],
   "source": [
    "def frechet_distance(mean_1, cov_1, mean_2, cov_2):\n",
    "    return np.sum(np.square(mean_1 - mean_2)) + \\\n",
    "            np.trace(cov_1 + cov_2 - 2 * linalg.fractional_matrix_power(np.dot(cov_1, cov_2), 1/2))"
   ]
  },
  {
   "cell_type": "code",
   "execution_count": 28,
   "metadata": {},
   "outputs": [
    {
     "data": {
      "text/plain": [
       "5368.415027869489"
      ]
     },
     "execution_count": 28,
     "metadata": {},
     "output_type": "execute_result"
    }
   ],
   "source": [
    "frechet_distance(mean, cov, new_mean, new_cov)"
   ]
  },
  {
   "cell_type": "code",
   "execution_count": 31,
   "metadata": {},
   "outputs": [
    {
     "data": {
      "text/plain": [
       "1.0572058893706213"
      ]
     },
     "execution_count": 31,
     "metadata": {},
     "output_type": "execute_result"
    }
   ],
   "source": [
    "frechet_distance(mean, cov, mean_1, cov_1)"
   ]
  },
  {
   "cell_type": "code",
   "execution_count": 33,
   "metadata": {},
   "outputs": [
    {
     "data": {
      "text/plain": [
       "(273.62129750548485-3.0255722957704123e-07j)"
      ]
     },
     "execution_count": 33,
     "metadata": {},
     "output_type": "execute_result"
    }
   ],
   "source": [
    "frechet_distance(new_mean, new_cov, new_mean_1, new_cov_1)"
   ]
  }
 ],
 "metadata": {
  "kernelspec": {
   "display_name": "Python 3",
   "language": "python",
   "name": "python3"
  },
  "language_info": {
   "codemirror_mode": {
    "name": "ipython",
    "version": 3
   },
   "file_extension": ".py",
   "mimetype": "text/x-python",
   "name": "python",
   "nbconvert_exporter": "python",
   "pygments_lexer": "ipython3",
   "version": "3.6.8"
  }
 },
 "nbformat": 4,
 "nbformat_minor": 2
}
