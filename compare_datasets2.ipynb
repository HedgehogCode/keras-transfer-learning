{
 "cells": [
  {
   "cell_type": "code",
   "execution_count": 260,
   "metadata": {},
   "outputs": [
    {
     "name": "stdout",
     "output_type": "stream",
     "text": [
      "The autoreload extension is already loaded. To reload it, use:\n",
      "  %reload_ext autoreload\n"
     ]
    }
   ],
   "source": [
    "%load_ext autoreload\n",
    "%autoreload 2\n",
    "\n",
    "import os\n",
    "import glob\n",
    "import numpy as np\n",
    "import tqdm\n",
    "import pandas as pd\n",
    "\n",
    "# os.environ['CUDA_VISIBLE_DEVICES'] = ''\n",
    "\n",
    "from keras_transfer_learning import data, utils, model"
   ]
  },
  {
   "cell_type": "markdown",
   "metadata": {},
   "source": [
    "TODOs:\n",
    "\n",
    "* read https://arxiv.org/pdf/1805.12462.pdf"
   ]
  },
  {
   "cell_type": "code",
   "execution_count": 4,
   "metadata": {},
   "outputs": [
    {
     "name": "stdout",
     "output_type": "stream",
     "text": [
      "P/cityscapes/dsb2018/stardist/resnet-unet/002/000\n",
      "P/cityscapes/dsb2018/stardist/resnet-unet/005/000\n",
      "P/cityscapes/dsb2018/stardist/resnet-unet/010/000\n",
      "P/cityscapes/dsb2018/stardist/resnet-unet/050/000\n",
      "P/cityscapes/dsb2018/stardist/resnet-unet/200/000\n",
      "P/cityscapes/hl60low/stardist/resnet-unet/002/000\n",
      "P/cityscapes/hl60low/stardist/resnet-unet/005/000\n",
      "P/cityscapes/hl60low/stardist/resnet-unet/010/000\n",
      "P/cityscapes/hl60low/stardist/resnet-unet/050/000\n",
      "P/cityscapes/hl60low/stardist/resnet-unet/200/000\n",
      "P/dsb2018/cityscapes/segm/resnet-unet/002/000\n",
      "P/dsb2018/cityscapes/segm/resnet-unet/005/000\n",
      "P/dsb2018/cityscapes/segm/resnet-unet/010/000\n",
      "P/dsb2018/cityscapes/segm/resnet-unet/050/000\n",
      "P/dsb2018/cityscapes/segm/resnet-unet/200/000\n",
      "P/dsb2018/granulocyte/fgbg-weighted/resnet-unet/002/000\n",
      "P/dsb2018/granulocyte/fgbg-weighted/resnet-unet/005/000\n",
      "P/dsb2018/granulocyte/fgbg-weighted/resnet-unet/010/000\n",
      "P/dsb2018/granulocyte/fgbg-weighted/resnet-unet/050/000\n",
      "P/dsb2018/granulocyte/fgbg-weighted/resnet-unet/200/000\n",
      "P/dsb2018/granulocyte/stardist/unet/002/000\n",
      "P/dsb2018/granulocyte/stardist/unet/002/001\n",
      "P/dsb2018/granulocyte/stardist/unet/002/002\n",
      "P/dsb2018/granulocyte/stardist/unet/002/003\n",
      "P/dsb2018/granulocyte/stardist/unet/002/004\n",
      "P/dsb2018/granulocyte/stardist/unet/005/000\n",
      "P/dsb2018/granulocyte/stardist/unet/005/001\n",
      "P/dsb2018/granulocyte/stardist/unet/005/002\n",
      "P/dsb2018/granulocyte/stardist/unet/005/003\n",
      "P/dsb2018/granulocyte/stardist/unet/005/004\n",
      "P/dsb2018/granulocyte/stardist/unet/010/000\n",
      "P/dsb2018/granulocyte/stardist/unet/010/001\n",
      "P/dsb2018/granulocyte/stardist/unet/010/002\n",
      "P/dsb2018/granulocyte/stardist/unet/010/003\n",
      "P/dsb2018/granulocyte/stardist/unet/010/004\n",
      "P/dsb2018/granulocyte/stardist/unet/050/000\n",
      "P/dsb2018/granulocyte/stardist/unet/050/001\n",
      "P/dsb2018/granulocyte/stardist/unet/050/002\n",
      "P/dsb2018/granulocyte/stardist/unet/050/003\n",
      "P/dsb2018/granulocyte/stardist/unet/050/004\n",
      "P/dsb2018/granulocyte/stardist/unet/200/000\n",
      "P/dsb2018/granulocyte/stardist/unet/200/001\n",
      "P/dsb2018/granulocyte/stardist/unet/200/002\n",
      "P/dsb2018/granulocyte/stardist/unet/200/003\n",
      "P/dsb2018/granulocyte/stardist/unet/200/004\n",
      "P/dsb2018/hl60low/stardist/unet/002/000\n",
      "P/dsb2018/hl60low/stardist/unet/002/001\n",
      "P/dsb2018/hl60low/stardist/unet/002/002\n",
      "P/dsb2018/hl60low/stardist/unet/002/003\n",
      "P/dsb2018/hl60low/stardist/unet/002/004\n",
      "P/dsb2018/hl60low/stardist/unet/005/000\n",
      "P/dsb2018/hl60low/stardist/unet/005/001\n",
      "P/dsb2018/hl60low/stardist/unet/005/002\n",
      "P/dsb2018/hl60low/stardist/unet/005/003\n",
      "P/dsb2018/hl60low/stardist/unet/005/004\n",
      "P/dsb2018/hl60low/stardist/unet/010/000\n",
      "P/dsb2018/hl60low/stardist/unet/010/001\n",
      "P/dsb2018/hl60low/stardist/unet/010/002\n",
      "P/dsb2018/hl60low/stardist/unet/010/003\n",
      "P/dsb2018/hl60low/stardist/unet/010/004\n",
      "P/dsb2018/hl60low/stardist/unet/050/000\n",
      "P/dsb2018/hl60low/stardist/unet/050/001\n",
      "P/dsb2018/hl60low/stardist/unet/050/002\n",
      "P/dsb2018/hl60low/stardist/unet/050/003\n",
      "P/dsb2018/hl60low/stardist/unet/050/004\n",
      "P/dsb2018/hl60low/stardist/unet/200/000\n",
      "P/dsb2018/hl60low/stardist/unet/200/001\n",
      "P/dsb2018/hl60low/stardist/unet/200/002\n",
      "P/dsb2018/hl60low/stardist/unet/200/003\n",
      "P/dsb2018/hl60low/stardist/unet/200/004\n",
      "P/granulocyte/dsb2018/fgbg-weighted/resnet-unet/002/000\n",
      "P/granulocyte/dsb2018/fgbg-weighted/resnet-unet/005/000\n",
      "P/granulocyte/dsb2018/fgbg-weighted/resnet-unet/010/000\n",
      "P/granulocyte/dsb2018/fgbg-weighted/resnet-unet/050/000\n",
      "P/granulocyte/dsb2018/fgbg-weighted/resnet-unet/200/000\n",
      "P/granulocyte/dsb2018/stardist/unet/002/000\n",
      "P/granulocyte/dsb2018/stardist/unet/002/001\n",
      "P/granulocyte/dsb2018/stardist/unet/002/002\n",
      "P/granulocyte/dsb2018/stardist/unet/002/003\n",
      "P/granulocyte/dsb2018/stardist/unet/002/004\n",
      "P/granulocyte/dsb2018/stardist/unet/005/000\n",
      "P/granulocyte/dsb2018/stardist/unet/005/001\n",
      "P/granulocyte/dsb2018/stardist/unet/005/002\n",
      "P/granulocyte/dsb2018/stardist/unet/005/003\n",
      "P/granulocyte/dsb2018/stardist/unet/005/004\n",
      "P/granulocyte/dsb2018/stardist/unet/010/000\n",
      "P/granulocyte/dsb2018/stardist/unet/010/001\n",
      "P/granulocyte/dsb2018/stardist/unet/010/002\n",
      "P/granulocyte/dsb2018/stardist/unet/010/003\n",
      "P/granulocyte/dsb2018/stardist/unet/010/004\n",
      "P/granulocyte/dsb2018/stardist/unet/050/000\n",
      "P/granulocyte/dsb2018/stardist/unet/050/001\n",
      "P/granulocyte/dsb2018/stardist/unet/050/002\n",
      "P/granulocyte/dsb2018/stardist/unet/050/003\n",
      "P/granulocyte/dsb2018/stardist/unet/050/004\n",
      "P/granulocyte/dsb2018/stardist/unet/200/000\n",
      "P/granulocyte/dsb2018/stardist/unet/200/001\n",
      "P/granulocyte/dsb2018/stardist/unet/200/002\n",
      "P/granulocyte/dsb2018/stardist/unet/200/003\n",
      "P/granulocyte/dsb2018/stardist/unet/200/004\n",
      "P/granulocyte/hl60low/stardist/unet/002/000\n",
      "P/granulocyte/hl60low/stardist/unet/002/001\n",
      "P/granulocyte/hl60low/stardist/unet/002/002\n",
      "P/granulocyte/hl60low/stardist/unet/002/003\n",
      "P/granulocyte/hl60low/stardist/unet/002/004\n",
      "P/granulocyte/hl60low/stardist/unet/005/000\n",
      "P/granulocyte/hl60low/stardist/unet/005/001\n",
      "P/granulocyte/hl60low/stardist/unet/005/002\n",
      "P/granulocyte/hl60low/stardist/unet/005/003\n",
      "P/granulocyte/hl60low/stardist/unet/005/004\n",
      "P/granulocyte/hl60low/stardist/unet/010/000\n",
      "P/granulocyte/hl60low/stardist/unet/010/001\n",
      "P/granulocyte/hl60low/stardist/unet/010/002\n",
      "P/granulocyte/hl60low/stardist/unet/010/003\n",
      "P/granulocyte/hl60low/stardist/unet/010/004\n",
      "P/granulocyte/hl60low/stardist/unet/050/000\n",
      "P/granulocyte/hl60low/stardist/unet/050/001\n",
      "P/granulocyte/hl60low/stardist/unet/050/002\n",
      "P/granulocyte/hl60low/stardist/unet/050/003\n",
      "P/granulocyte/hl60low/stardist/unet/050/004\n",
      "P/granulocyte/hl60low/stardist/unet/200/000\n",
      "P/granulocyte/hl60low/stardist/unet/200/001\n",
      "P/granulocyte/hl60low/stardist/unet/200/002\n",
      "P/granulocyte/hl60low/stardist/unet/200/003\n",
      "P/granulocyte/hl60low/stardist/unet/200/004\n",
      "P/hl60high/hl60low/stardist/unet/002/000\n",
      "P/hl60high/hl60low/stardist/unet/002/001\n",
      "P/hl60high/hl60low/stardist/unet/002/002\n",
      "P/hl60high/hl60low/stardist/unet/002/003\n",
      "P/hl60high/hl60low/stardist/unet/002/004\n",
      "P/hl60high/hl60low/stardist/unet/005/000\n",
      "P/hl60high/hl60low/stardist/unet/005/001\n",
      "P/hl60high/hl60low/stardist/unet/005/002\n",
      "P/hl60high/hl60low/stardist/unet/005/003\n",
      "P/hl60high/hl60low/stardist/unet/005/004\n",
      "P/hl60high/hl60low/stardist/unet/010/000\n",
      "P/hl60high/hl60low/stardist/unet/010/001\n",
      "P/hl60high/hl60low/stardist/unet/010/002\n",
      "P/hl60high/hl60low/stardist/unet/010/003\n",
      "P/hl60high/hl60low/stardist/unet/010/004\n",
      "P/hl60high/hl60low/stardist/unet/050/000\n",
      "P/hl60high/hl60low/stardist/unet/050/001\n",
      "P/hl60high/hl60low/stardist/unet/050/002\n",
      "P/hl60high/hl60low/stardist/unet/050/003\n",
      "P/hl60high/hl60low/stardist/unet/050/004\n",
      "P/hl60high/hl60low/stardist/unet/200/000\n",
      "P/hl60high/hl60low/stardist/unet/200/001\n",
      "P/hl60high/hl60low/stardist/unet/200/002\n",
      "P/hl60high/hl60low/stardist/unet/200/003\n",
      "P/hl60high/hl60low/stardist/unet/200/004\n",
      "P/hl60low-granulocyte-aug/dsb2018/stardist/resnet-unet/002/000\n",
      "P/hl60low-granulocyte-aug/dsb2018/stardist/resnet-unet/002/001\n",
      "P/hl60low-granulocyte-aug/dsb2018/stardist/resnet-unet/002/002\n",
      "P/hl60low-granulocyte-aug/dsb2018/stardist/resnet-unet/005/000\n",
      "P/hl60low-granulocyte-aug/dsb2018/stardist/resnet-unet/005/001\n",
      "P/hl60low-granulocyte-aug/dsb2018/stardist/resnet-unet/005/002\n",
      "P/hl60low-granulocyte-aug/dsb2018/stardist/resnet-unet/010/000\n",
      "P/hl60low-granulocyte-aug/dsb2018/stardist/resnet-unet/010/001\n",
      "P/hl60low-granulocyte-aug/dsb2018/stardist/resnet-unet/010/002\n",
      "P/hl60low-granulocyte-aug/dsb2018/stardist/resnet-unet/050/000\n",
      "P/hl60low-granulocyte-aug/dsb2018/stardist/resnet-unet/050/001\n",
      "P/hl60low-granulocyte-aug/dsb2018/stardist/resnet-unet/050/002\n",
      "P/hl60low-granulocyte-aug/dsb2018/stardist/resnet-unet/200/000\n",
      "P/hl60low-granulocyte-aug/dsb2018/stardist/resnet-unet/200/001\n",
      "P/hl60low-granulocyte-aug/dsb2018/stardist/resnet-unet/200/002\n",
      "P/hl60low-hl60high-granulocyte/dsb2018/stardist/resnet-unet/002/000\n",
      "P/hl60low-hl60high-granulocyte/dsb2018/stardist/resnet-unet/002/001\n",
      "P/hl60low-hl60high-granulocyte/dsb2018/stardist/resnet-unet/002/002\n",
      "P/hl60low-hl60high-granulocyte/dsb2018/stardist/resnet-unet/005/000\n",
      "P/hl60low-hl60high-granulocyte/dsb2018/stardist/resnet-unet/005/001\n",
      "P/hl60low-hl60high-granulocyte/dsb2018/stardist/resnet-unet/005/002\n",
      "P/hl60low-hl60high-granulocyte/dsb2018/stardist/resnet-unet/010/000\n",
      "P/hl60low-hl60high-granulocyte/dsb2018/stardist/resnet-unet/010/001\n",
      "P/hl60low-hl60high-granulocyte/dsb2018/stardist/resnet-unet/010/002\n",
      "P/hl60low-hl60high-granulocyte/dsb2018/stardist/resnet-unet/050/000\n",
      "P/hl60low-hl60high-granulocyte/dsb2018/stardist/resnet-unet/050/001\n",
      "P/hl60low-hl60high-granulocyte/dsb2018/stardist/resnet-unet/050/002\n",
      "P/hl60low-hl60high-granulocyte/dsb2018/stardist/resnet-unet/200/000\n",
      "P/hl60low-hl60high-granulocyte/dsb2018/stardist/resnet-unet/200/001\n",
      "P/hl60low-hl60high-granulocyte/dsb2018/stardist/resnet-unet/200/002\n",
      "P/hl60low/cityscapes/segm/resnet-unet/002/000\n",
      "P/hl60low/cityscapes/segm/resnet-unet/005/000\n",
      "P/hl60low/cityscapes/segm/resnet-unet/010/000\n",
      "P/hl60low/cityscapes/segm/resnet-unet/050/000\n",
      "P/hl60low/cityscapes/segm/resnet-unet/200/000\n",
      "P/hl60low/dsb2018/stardist/unet/002/000\n",
      "P/hl60low/dsb2018/stardist/unet/002/001\n",
      "P/hl60low/dsb2018/stardist/unet/002/002\n",
      "P/hl60low/dsb2018/stardist/unet/002/003\n",
      "P/hl60low/dsb2018/stardist/unet/002/004\n",
      "P/hl60low/dsb2018/stardist/unet/005/000\n",
      "P/hl60low/dsb2018/stardist/unet/005/001\n",
      "P/hl60low/dsb2018/stardist/unet/005/002\n",
      "P/hl60low/dsb2018/stardist/unet/005/003\n",
      "P/hl60low/dsb2018/stardist/unet/005/004\n",
      "P/hl60low/dsb2018/stardist/unet/010/000\n",
      "P/hl60low/dsb2018/stardist/unet/010/001\n",
      "P/hl60low/dsb2018/stardist/unet/010/002\n",
      "P/hl60low/dsb2018/stardist/unet/010/003\n",
      "P/hl60low/dsb2018/stardist/unet/010/004\n",
      "P/hl60low/dsb2018/stardist/unet/050/000\n",
      "P/hl60low/dsb2018/stardist/unet/050/001\n",
      "P/hl60low/dsb2018/stardist/unet/050/002\n",
      "P/hl60low/dsb2018/stardist/unet/050/003\n",
      "P/hl60low/dsb2018/stardist/unet/050/004\n",
      "P/hl60low/dsb2018/stardist/unet/200/000\n",
      "P/hl60low/dsb2018/stardist/unet/200/001\n",
      "P/hl60low/dsb2018/stardist/unet/200/002\n",
      "P/hl60low/dsb2018/stardist/unet/200/003\n",
      "P/hl60low/dsb2018/stardist/unet/200/004\n",
      "P/hl60low/granulocyte/stardist/unet/002/000\n",
      "P/hl60low/granulocyte/stardist/unet/002/001\n",
      "P/hl60low/granulocyte/stardist/unet/002/002\n",
      "P/hl60low/granulocyte/stardist/unet/002/003\n",
      "P/hl60low/granulocyte/stardist/unet/002/004\n",
      "P/hl60low/granulocyte/stardist/unet/005/000\n",
      "P/hl60low/granulocyte/stardist/unet/005/001\n",
      "P/hl60low/granulocyte/stardist/unet/005/002\n",
      "P/hl60low/granulocyte/stardist/unet/005/003\n",
      "P/hl60low/granulocyte/stardist/unet/005/004\n",
      "P/hl60low/granulocyte/stardist/unet/010/000\n",
      "P/hl60low/granulocyte/stardist/unet/010/001\n",
      "P/hl60low/granulocyte/stardist/unet/010/002\n",
      "P/hl60low/granulocyte/stardist/unet/010/003\n",
      "P/hl60low/granulocyte/stardist/unet/010/004\n",
      "P/hl60low/granulocyte/stardist/unet/050/000\n",
      "P/hl60low/granulocyte/stardist/unet/050/001\n",
      "P/hl60low/granulocyte/stardist/unet/050/002\n",
      "P/hl60low/granulocyte/stardist/unet/050/003\n",
      "P/hl60low/granulocyte/stardist/unet/050/004\n",
      "P/hl60low/granulocyte/stardist/unet/200/000\n",
      "P/hl60low/granulocyte/stardist/unet/200/001\n",
      "P/hl60low/granulocyte/stardist/unet/200/002\n",
      "P/hl60low/granulocyte/stardist/unet/200/003\n",
      "P/hl60low/granulocyte/stardist/unet/200/004\n",
      "P/hl60low/hl60high/stardist/unet/002/000\n",
      "P/hl60low/hl60high/stardist/unet/002/001\n",
      "P/hl60low/hl60high/stardist/unet/002/002\n",
      "P/hl60low/hl60high/stardist/unet/002/003\n",
      "P/hl60low/hl60high/stardist/unet/002/004\n",
      "P/hl60low/hl60high/stardist/unet/005/000\n",
      "P/hl60low/hl60high/stardist/unet/005/001\n",
      "P/hl60low/hl60high/stardist/unet/005/002\n",
      "P/hl60low/hl60high/stardist/unet/005/003\n",
      "P/hl60low/hl60high/stardist/unet/005/004\n",
      "P/hl60low/hl60high/stardist/unet/010/000\n",
      "P/hl60low/hl60high/stardist/unet/010/001\n",
      "P/hl60low/hl60high/stardist/unet/010/002\n",
      "P/hl60low/hl60high/stardist/unet/010/003\n",
      "P/hl60low/hl60high/stardist/unet/010/004\n",
      "P/hl60low/hl60high/stardist/unet/050/000\n",
      "P/hl60low/hl60high/stardist/unet/050/001\n",
      "P/hl60low/hl60high/stardist/unet/050/002\n",
      "P/hl60low/hl60high/stardist/unet/050/003\n",
      "P/hl60low/hl60high/stardist/unet/050/004\n",
      "P/hl60low/hl60high/stardist/unet/200/000\n",
      "P/hl60low/hl60high/stardist/unet/200/001\n",
      "P/hl60low/hl60high/stardist/unet/200/002\n",
      "P/hl60low/hl60high/stardist/unet/200/003\n",
      "P/hl60low/hl60high/stardist/unet/200/004\n",
      "P/imagenet/dsb2018/stardist/imagenet-resnet-unet/002/000\n",
      "P/imagenet/dsb2018/stardist/imagenet-resnet-unet/002/001\n",
      "P/imagenet/dsb2018/stardist/imagenet-resnet-unet/005/000\n",
      "P/imagenet/dsb2018/stardist/imagenet-resnet-unet/005/001\n",
      "P/imagenet/dsb2018/stardist/imagenet-resnet-unet/010/000\n",
      "P/imagenet/dsb2018/stardist/imagenet-resnet-unet/010/001\n",
      "P/imagenet/dsb2018/stardist/imagenet-resnet-unet/050/000\n",
      "P/imagenet/dsb2018/stardist/imagenet-resnet-unet/050/001\n",
      "P/imagenet/dsb2018/stardist/imagenet-resnet-unet/200/000\n",
      "P/imagenet/dsb2018/stardist/imagenet-resnet-unet/200/001\n",
      "P/imagenet/dsb2018/stardist/imagenet-resnet-unet/F/000\n",
      "P/imagenet/dsb2018/stardist/imagenet-resnet-unet/F/001\n",
      "R/none/cityscapes/segm/resnet-unet/002/000\n",
      "R/none/cityscapes/segm/resnet-unet/002/001\n",
      "R/none/cityscapes/segm/resnet-unet/005/000\n",
      "R/none/cityscapes/segm/resnet-unet/005/001\n",
      "R/none/cityscapes/segm/resnet-unet/010/000\n",
      "R/none/cityscapes/segm/resnet-unet/010/001\n",
      "R/none/cityscapes/segm/resnet-unet/050/000\n",
      "R/none/cityscapes/segm/resnet-unet/050/001\n",
      "R/none/cityscapes/segm/resnet-unet/200/000\n",
      "R/none/cityscapes/segm/resnet-unet/200/001\n",
      "R/none/cityscapes/segm/resnet-unet/F/000\n",
      "R/none/cityscapes/segm/resnet-unet/F/001\n",
      "R/none/dsb2018/fgbg-weighted/resnet-unet/002/000\n",
      "R/none/dsb2018/fgbg-weighted/resnet-unet/002/001\n",
      "R/none/dsb2018/fgbg-weighted/resnet-unet/002/002\n",
      "R/none/dsb2018/fgbg-weighted/resnet-unet/005/000\n",
      "R/none/dsb2018/fgbg-weighted/resnet-unet/005/001\n",
      "R/none/dsb2018/fgbg-weighted/resnet-unet/005/002\n",
      "R/none/dsb2018/fgbg-weighted/resnet-unet/010/000\n",
      "R/none/dsb2018/fgbg-weighted/resnet-unet/010/001\n",
      "R/none/dsb2018/fgbg-weighted/resnet-unet/010/002\n",
      "R/none/dsb2018/fgbg-weighted/resnet-unet/050/000\n",
      "R/none/dsb2018/fgbg-weighted/resnet-unet/050/001\n",
      "R/none/dsb2018/fgbg-weighted/resnet-unet/050/002\n",
      "R/none/dsb2018/fgbg-weighted/resnet-unet/200/000\n",
      "R/none/dsb2018/fgbg-weighted/resnet-unet/200/001\n",
      "R/none/dsb2018/fgbg-weighted/resnet-unet/200/002\n",
      "R/none/dsb2018/fgbg-weighted/resnet-unet/F/000\n",
      "R/none/dsb2018/fgbg-weighted/resnet-unet/F/001\n",
      "R/none/dsb2018/fgbg-weighted/resnet-unet/F/002\n",
      "R/none/dsb2018/stardist/imagenet-resnet-unet/002/000\n",
      "R/none/dsb2018/stardist/imagenet-resnet-unet/002/001\n",
      "R/none/dsb2018/stardist/imagenet-resnet-unet/002/002\n",
      "R/none/dsb2018/stardist/imagenet-resnet-unet/005/000\n",
      "R/none/dsb2018/stardist/imagenet-resnet-unet/005/001\n",
      "R/none/dsb2018/stardist/imagenet-resnet-unet/005/002\n",
      "R/none/dsb2018/stardist/imagenet-resnet-unet/010/000\n",
      "R/none/dsb2018/stardist/imagenet-resnet-unet/010/001\n",
      "R/none/dsb2018/stardist/imagenet-resnet-unet/010/002\n",
      "R/none/dsb2018/stardist/imagenet-resnet-unet/050/000\n",
      "R/none/dsb2018/stardist/imagenet-resnet-unet/050/001\n",
      "R/none/dsb2018/stardist/imagenet-resnet-unet/050/002\n",
      "R/none/dsb2018/stardist/imagenet-resnet-unet/200/000\n",
      "R/none/dsb2018/stardist/imagenet-resnet-unet/200/001\n",
      "R/none/dsb2018/stardist/imagenet-resnet-unet/200/002\n",
      "R/none/dsb2018/stardist/imagenet-resnet-unet/F/000\n",
      "R/none/dsb2018/stardist/imagenet-resnet-unet/F/001\n",
      "R/none/dsb2018/stardist/imagenet-resnet-unet/F/002\n",
      "R/none/dsb2018/stardist/resnet-unet/002/000\n",
      "R/none/dsb2018/stardist/resnet-unet/005/000\n",
      "R/none/dsb2018/stardist/resnet-unet/010/000\n",
      "R/none/dsb2018/stardist/resnet-unet/050/000\n",
      "R/none/dsb2018/stardist/resnet-unet/200/000\n",
      "R/none/dsb2018/stardist/resnet-unet/F/000\n",
      "R/none/dsb2018/stardist/unet/002/000\n",
      "R/none/dsb2018/stardist/unet/002/001\n",
      "R/none/dsb2018/stardist/unet/002/002\n",
      "R/none/dsb2018/stardist/unet/002/003\n",
      "R/none/dsb2018/stardist/unet/002/004\n",
      "R/none/dsb2018/stardist/unet/002/005\n",
      "R/none/dsb2018/stardist/unet/002/006\n",
      "R/none/dsb2018/stardist/unet/002/007\n",
      "R/none/dsb2018/stardist/unet/002/008\n",
      "R/none/dsb2018/stardist/unet/002/009\n",
      "R/none/dsb2018/stardist/unet/005/000\n",
      "R/none/dsb2018/stardist/unet/005/001\n",
      "R/none/dsb2018/stardist/unet/005/002\n",
      "R/none/dsb2018/stardist/unet/005/003\n",
      "R/none/dsb2018/stardist/unet/005/004\n",
      "R/none/dsb2018/stardist/unet/005/005\n",
      "R/none/dsb2018/stardist/unet/005/006\n",
      "R/none/dsb2018/stardist/unet/005/007\n",
      "R/none/dsb2018/stardist/unet/005/008\n",
      "R/none/dsb2018/stardist/unet/005/009\n",
      "R/none/dsb2018/stardist/unet/010/000\n",
      "R/none/dsb2018/stardist/unet/010/001\n",
      "R/none/dsb2018/stardist/unet/010/002\n",
      "R/none/dsb2018/stardist/unet/010/003\n",
      "R/none/dsb2018/stardist/unet/010/004\n",
      "R/none/dsb2018/stardist/unet/010/005\n",
      "R/none/dsb2018/stardist/unet/010/006\n",
      "R/none/dsb2018/stardist/unet/010/007\n",
      "R/none/dsb2018/stardist/unet/010/008\n",
      "R/none/dsb2018/stardist/unet/010/009\n",
      "R/none/dsb2018/stardist/unet/050/000\n",
      "R/none/dsb2018/stardist/unet/050/001\n",
      "R/none/dsb2018/stardist/unet/050/002\n",
      "R/none/dsb2018/stardist/unet/050/003\n",
      "R/none/dsb2018/stardist/unet/050/004\n",
      "R/none/dsb2018/stardist/unet/050/005\n",
      "R/none/dsb2018/stardist/unet/050/006\n",
      "R/none/dsb2018/stardist/unet/050/007\n",
      "R/none/dsb2018/stardist/unet/050/008\n",
      "R/none/dsb2018/stardist/unet/050/009\n",
      "R/none/dsb2018/stardist/unet/200/000\n",
      "R/none/dsb2018/stardist/unet/200/001\n",
      "R/none/dsb2018/stardist/unet/200/002\n",
      "R/none/dsb2018/stardist/unet/200/003\n",
      "R/none/dsb2018/stardist/unet/200/004\n",
      "R/none/dsb2018/stardist/unet/200/005\n",
      "R/none/dsb2018/stardist/unet/200/006\n",
      "R/none/dsb2018/stardist/unet/200/007\n",
      "R/none/dsb2018/stardist/unet/200/008\n",
      "R/none/dsb2018/stardist/unet/200/009\n",
      "R/none/dsb2018/stardist/unet/F/000\n",
      "R/none/dsb2018/stardist/unet/F/001\n",
      "R/none/dsb2018/stardist/unet/F/002\n",
      "R/none/dsb2018/stardist/unet/F/003\n",
      "R/none/dsb2018/stardist/unet/F/004\n",
      "R/none/dsb2018/stardist/unet/F/005\n",
      "R/none/dsb2018/stardist/unet/F/006\n",
      "R/none/dsb2018/stardist/unet/F/007\n",
      "R/none/dsb2018/stardist/unet/F/008\n",
      "R/none/dsb2018/stardist/unet/F/009\n",
      "R/none/granulocyte/fgbg-weighted/resnet-unet/002/000\n",
      "R/none/granulocyte/fgbg-weighted/resnet-unet/002/001\n",
      "R/none/granulocyte/fgbg-weighted/resnet-unet/002/002\n",
      "R/none/granulocyte/fgbg-weighted/resnet-unet/005/000\n",
      "R/none/granulocyte/fgbg-weighted/resnet-unet/005/001\n",
      "R/none/granulocyte/fgbg-weighted/resnet-unet/005/002\n",
      "R/none/granulocyte/fgbg-weighted/resnet-unet/010/000\n",
      "R/none/granulocyte/fgbg-weighted/resnet-unet/010/001\n",
      "R/none/granulocyte/fgbg-weighted/resnet-unet/010/002\n",
      "R/none/granulocyte/fgbg-weighted/resnet-unet/050/000\n",
      "R/none/granulocyte/fgbg-weighted/resnet-unet/050/001\n",
      "R/none/granulocyte/fgbg-weighted/resnet-unet/050/002\n",
      "R/none/granulocyte/fgbg-weighted/resnet-unet/200/000\n",
      "R/none/granulocyte/fgbg-weighted/resnet-unet/200/001\n",
      "R/none/granulocyte/fgbg-weighted/resnet-unet/200/002\n",
      "R/none/granulocyte/fgbg-weighted/resnet-unet/F/000\n",
      "R/none/granulocyte/fgbg-weighted/resnet-unet/F/001\n",
      "R/none/granulocyte/fgbg-weighted/resnet-unet/F/002\n",
      "R/none/granulocyte/stardist/unet/002/000\n",
      "R/none/granulocyte/stardist/unet/002/001\n",
      "R/none/granulocyte/stardist/unet/002/002\n",
      "R/none/granulocyte/stardist/unet/002/003\n",
      "R/none/granulocyte/stardist/unet/002/004\n",
      "R/none/granulocyte/stardist/unet/002/005\n",
      "R/none/granulocyte/stardist/unet/002/006\n",
      "R/none/granulocyte/stardist/unet/002/007\n",
      "R/none/granulocyte/stardist/unet/002/008\n",
      "R/none/granulocyte/stardist/unet/002/009\n",
      "R/none/granulocyte/stardist/unet/005/000\n",
      "R/none/granulocyte/stardist/unet/005/001\n",
      "R/none/granulocyte/stardist/unet/005/002\n",
      "R/none/granulocyte/stardist/unet/005/003\n",
      "R/none/granulocyte/stardist/unet/005/004\n",
      "R/none/granulocyte/stardist/unet/005/005\n",
      "R/none/granulocyte/stardist/unet/005/006\n",
      "R/none/granulocyte/stardist/unet/005/007\n",
      "R/none/granulocyte/stardist/unet/005/008\n",
      "R/none/granulocyte/stardist/unet/005/009\n",
      "R/none/granulocyte/stardist/unet/010/000\n",
      "R/none/granulocyte/stardist/unet/010/001\n",
      "R/none/granulocyte/stardist/unet/010/002\n",
      "R/none/granulocyte/stardist/unet/010/003\n",
      "R/none/granulocyte/stardist/unet/010/004\n",
      "R/none/granulocyte/stardist/unet/010/005\n",
      "R/none/granulocyte/stardist/unet/010/006\n",
      "R/none/granulocyte/stardist/unet/010/007\n",
      "R/none/granulocyte/stardist/unet/010/008\n",
      "R/none/granulocyte/stardist/unet/010/009\n",
      "R/none/granulocyte/stardist/unet/050/000\n",
      "R/none/granulocyte/stardist/unet/050/001\n",
      "R/none/granulocyte/stardist/unet/050/002\n",
      "R/none/granulocyte/stardist/unet/050/003\n",
      "R/none/granulocyte/stardist/unet/050/004\n",
      "R/none/granulocyte/stardist/unet/050/005\n",
      "R/none/granulocyte/stardist/unet/050/006\n",
      "R/none/granulocyte/stardist/unet/050/007\n",
      "R/none/granulocyte/stardist/unet/050/008\n",
      "R/none/granulocyte/stardist/unet/050/009\n",
      "R/none/granulocyte/stardist/unet/200/000\n",
      "R/none/granulocyte/stardist/unet/200/001\n",
      "R/none/granulocyte/stardist/unet/200/002\n",
      "R/none/granulocyte/stardist/unet/200/003\n",
      "R/none/granulocyte/stardist/unet/200/004\n",
      "R/none/granulocyte/stardist/unet/200/005\n",
      "R/none/granulocyte/stardist/unet/200/006\n",
      "R/none/granulocyte/stardist/unet/200/007\n",
      "R/none/granulocyte/stardist/unet/200/008\n",
      "R/none/granulocyte/stardist/unet/200/009\n",
      "R/none/granulocyte/stardist/unet/F/000\n",
      "R/none/granulocyte/stardist/unet/F/001\n",
      "R/none/granulocyte/stardist/unet/F/002\n",
      "R/none/granulocyte/stardist/unet/F/003\n",
      "R/none/granulocyte/stardist/unet/F/004\n",
      "R/none/granulocyte/stardist/unet/F/005\n",
      "R/none/granulocyte/stardist/unet/F/006\n",
      "R/none/granulocyte/stardist/unet/F/007\n",
      "R/none/granulocyte/stardist/unet/F/008\n",
      "R/none/granulocyte/stardist/unet/F/009\n",
      "R/none/hl60high/stardist/unet/002/000\n",
      "R/none/hl60high/stardist/unet/002/001\n",
      "R/none/hl60high/stardist/unet/002/002\n",
      "R/none/hl60high/stardist/unet/002/003\n",
      "R/none/hl60high/stardist/unet/002/004\n",
      "R/none/hl60high/stardist/unet/005/000\n",
      "R/none/hl60high/stardist/unet/005/001\n",
      "R/none/hl60high/stardist/unet/005/002\n",
      "R/none/hl60high/stardist/unet/005/003\n",
      "R/none/hl60high/stardist/unet/005/004\n",
      "R/none/hl60high/stardist/unet/010/000\n",
      "R/none/hl60high/stardist/unet/010/001\n",
      "R/none/hl60high/stardist/unet/010/002\n",
      "R/none/hl60high/stardist/unet/010/003\n",
      "R/none/hl60high/stardist/unet/010/004\n",
      "R/none/hl60high/stardist/unet/050/000\n",
      "R/none/hl60high/stardist/unet/050/001\n",
      "R/none/hl60high/stardist/unet/050/002\n",
      "R/none/hl60high/stardist/unet/050/003\n",
      "R/none/hl60high/stardist/unet/050/004\n",
      "R/none/hl60high/stardist/unet/200/000\n",
      "R/none/hl60high/stardist/unet/200/001\n",
      "R/none/hl60high/stardist/unet/200/002\n",
      "R/none/hl60high/stardist/unet/200/003\n",
      "R/none/hl60high/stardist/unet/200/004\n",
      "R/none/hl60high/stardist/unet/F/000\n",
      "R/none/hl60high/stardist/unet/F/001\n",
      "R/none/hl60high/stardist/unet/F/002\n",
      "R/none/hl60high/stardist/unet/F/003\n",
      "R/none/hl60high/stardist/unet/F/004\n",
      "R/none/hl60low/stardist/resnet-unet/002/000\n",
      "R/none/hl60low/stardist/resnet-unet/005/000\n",
      "R/none/hl60low/stardist/resnet-unet/010/000\n",
      "R/none/hl60low/stardist/resnet-unet/050/000\n",
      "R/none/hl60low/stardist/resnet-unet/200/000\n",
      "R/none/hl60low/stardist/resnet-unet/F/000\n",
      "R/none/hl60low/stardist/unet/002/000\n",
      "R/none/hl60low/stardist/unet/002/001\n",
      "R/none/hl60low/stardist/unet/002/002\n",
      "R/none/hl60low/stardist/unet/002/003\n",
      "R/none/hl60low/stardist/unet/002/004\n",
      "R/none/hl60low/stardist/unet/002/005\n",
      "R/none/hl60low/stardist/unet/002/006\n",
      "R/none/hl60low/stardist/unet/002/007\n",
      "R/none/hl60low/stardist/unet/002/008\n",
      "R/none/hl60low/stardist/unet/002/009\n",
      "R/none/hl60low/stardist/unet/002/010\n",
      "R/none/hl60low/stardist/unet/002/011\n",
      "R/none/hl60low/stardist/unet/002/012\n",
      "R/none/hl60low/stardist/unet/002/013\n",
      "R/none/hl60low/stardist/unet/002/014\n",
      "R/none/hl60low/stardist/unet/005/000\n",
      "R/none/hl60low/stardist/unet/005/001\n",
      "R/none/hl60low/stardist/unet/005/002\n",
      "R/none/hl60low/stardist/unet/005/003\n",
      "R/none/hl60low/stardist/unet/005/004\n",
      "R/none/hl60low/stardist/unet/005/005\n",
      "R/none/hl60low/stardist/unet/005/006\n",
      "R/none/hl60low/stardist/unet/005/007\n",
      "R/none/hl60low/stardist/unet/005/008\n",
      "R/none/hl60low/stardist/unet/005/009\n",
      "R/none/hl60low/stardist/unet/005/010\n",
      "R/none/hl60low/stardist/unet/005/011\n",
      "R/none/hl60low/stardist/unet/005/012\n",
      "R/none/hl60low/stardist/unet/005/013\n",
      "R/none/hl60low/stardist/unet/005/014\n",
      "R/none/hl60low/stardist/unet/010/000\n",
      "R/none/hl60low/stardist/unet/010/001\n",
      "R/none/hl60low/stardist/unet/010/002\n",
      "R/none/hl60low/stardist/unet/010/003\n",
      "R/none/hl60low/stardist/unet/010/004\n",
      "R/none/hl60low/stardist/unet/010/005\n",
      "R/none/hl60low/stardist/unet/010/006\n",
      "R/none/hl60low/stardist/unet/010/007\n",
      "R/none/hl60low/stardist/unet/010/008\n",
      "R/none/hl60low/stardist/unet/010/009\n",
      "R/none/hl60low/stardist/unet/010/010\n",
      "R/none/hl60low/stardist/unet/010/011\n",
      "R/none/hl60low/stardist/unet/010/012\n",
      "R/none/hl60low/stardist/unet/010/013\n",
      "R/none/hl60low/stardist/unet/010/014\n",
      "R/none/hl60low/stardist/unet/050/000\n",
      "R/none/hl60low/stardist/unet/050/001\n",
      "R/none/hl60low/stardist/unet/050/002\n",
      "R/none/hl60low/stardist/unet/050/003\n",
      "R/none/hl60low/stardist/unet/050/004\n",
      "R/none/hl60low/stardist/unet/050/005\n",
      "R/none/hl60low/stardist/unet/050/006\n",
      "R/none/hl60low/stardist/unet/050/007\n",
      "R/none/hl60low/stardist/unet/050/008\n",
      "R/none/hl60low/stardist/unet/050/009\n",
      "R/none/hl60low/stardist/unet/050/010\n",
      "R/none/hl60low/stardist/unet/050/011\n",
      "R/none/hl60low/stardist/unet/050/012\n",
      "R/none/hl60low/stardist/unet/050/013\n",
      "R/none/hl60low/stardist/unet/050/014\n",
      "R/none/hl60low/stardist/unet/200/000\n",
      "R/none/hl60low/stardist/unet/200/001\n",
      "R/none/hl60low/stardist/unet/200/002\n",
      "R/none/hl60low/stardist/unet/200/003\n",
      "R/none/hl60low/stardist/unet/200/004\n",
      "R/none/hl60low/stardist/unet/200/005\n",
      "R/none/hl60low/stardist/unet/200/006\n",
      "R/none/hl60low/stardist/unet/200/007\n",
      "R/none/hl60low/stardist/unet/200/008\n",
      "R/none/hl60low/stardist/unet/200/009\n",
      "R/none/hl60low/stardist/unet/200/010\n",
      "R/none/hl60low/stardist/unet/200/011\n",
      "R/none/hl60low/stardist/unet/200/012\n",
      "R/none/hl60low/stardist/unet/200/013\n",
      "R/none/hl60low/stardist/unet/200/014\n",
      "R/none/hl60low/stardist/unet/F/000\n",
      "R/none/hl60low/stardist/unet/F/001\n",
      "R/none/hl60low/stardist/unet/F/002\n",
      "R/none/hl60low/stardist/unet/F/003\n",
      "R/none/hl60low/stardist/unet/F/004\n",
      "R/none/hl60low/stardist/unet/F/005\n",
      "R/none/hl60low/stardist/unet/F/006\n",
      "R/none/hl60low/stardist/unet/F/007\n",
      "R/none/hl60low/stardist/unet/F/008\n",
      "R/none/hl60low/stardist/unet/F/009\n",
      "R/none/hl60low/stardist/unet/F/010\n",
      "R/none/hl60low/stardist/unet/F/011\n",
      "R/none/hl60low/stardist/unet/F/012\n",
      "R/none/hl60low/stardist/unet/F/013\n",
      "R/none/hl60low/stardist/unet/F/014\n",
      "T/none/hl60low-granulocyte-aug/stardist/resnet-unet/F/000/001_hl60low\n",
      "T/none/hl60low-granulocyte-aug/stardist/resnet-unet/F/000/002_granulocyte\n",
      "T/none/hl60low-granulocyte-aug/stardist/resnet-unet/F/000/003_hl60low\n",
      "T/none/hl60low-granulocyte-aug/stardist/resnet-unet/F/000/004_granulocyte\n",
      "T/none/hl60low-granulocyte-aug/stardist/resnet-unet/F/000/005_hl60low\n",
      "T/none/hl60low-granulocyte-aug/stardist/resnet-unet/F/000/006_granulocyte\n",
      "T/none/hl60low-granulocyte-aug/stardist/resnet-unet/F/000/007_hl60low\n",
      "T/none/hl60low-granulocyte-aug/stardist/resnet-unet/F/000/008_granulocyte\n",
      "T/none/hl60low-granulocyte-aug/stardist/resnet-unet/F/000/009_hl60low\n",
      "T/none/hl60low-granulocyte-aug/stardist/resnet-unet/F/000/010_granulocyte\n",
      "T/none/hl60low-granulocyte-aug/stardist/resnet-unet/F/000/011_hl60low\n",
      "T/none/hl60low-granulocyte-aug/stardist/resnet-unet/F/000/012_granulocyte\n",
      "T/none/hl60low-granulocyte-aug/stardist/resnet-unet/F/000/013_hl60low\n",
      "T/none/hl60low-granulocyte-aug/stardist/resnet-unet/F/000/014_granulocyte\n",
      "T/none/hl60low-granulocyte-aug/stardist/resnet-unet/F/000/015_hl60low\n",
      "T/none/hl60low-granulocyte-aug/stardist/resnet-unet/F/000/016_granulocyte\n",
      "T/none/hl60low-granulocyte-aug/stardist/resnet-unet/F/000/017_hl60low\n",
      "T/none/hl60low-granulocyte-aug/stardist/resnet-unet/F/000/018_granulocyte\n",
      "T/none/hl60low-granulocyte-aug/stardist/resnet-unet/F/000/019_hl60low\n",
      "T/none/hl60low-granulocyte-aug/stardist/resnet-unet/F/000/020_granulocyte\n",
      "T/none/hl60low-granulocyte-aug/stardist/resnet-unet/F/001/001_hl60low\n",
      "T/none/hl60low-granulocyte-aug/stardist/resnet-unet/F/001/002_granulocyte\n",
      "T/none/hl60low-granulocyte-aug/stardist/resnet-unet/F/001/003_hl60low\n",
      "T/none/hl60low-granulocyte-aug/stardist/resnet-unet/F/001/004_granulocyte\n",
      "T/none/hl60low-granulocyte-aug/stardist/resnet-unet/F/001/005_hl60low\n",
      "T/none/hl60low-granulocyte-aug/stardist/resnet-unet/F/001/006_granulocyte\n",
      "T/none/hl60low-granulocyte-aug/stardist/resnet-unet/F/001/007_hl60low\n",
      "T/none/hl60low-granulocyte-aug/stardist/resnet-unet/F/001/008_granulocyte\n",
      "T/none/hl60low-granulocyte-aug/stardist/resnet-unet/F/001/009_hl60low\n",
      "T/none/hl60low-granulocyte-aug/stardist/resnet-unet/F/001/010_granulocyte\n",
      "T/none/hl60low-granulocyte-aug/stardist/resnet-unet/F/001/011_hl60low\n",
      "T/none/hl60low-granulocyte-aug/stardist/resnet-unet/F/001/012_granulocyte\n",
      "T/none/hl60low-granulocyte-aug/stardist/resnet-unet/F/001/013_hl60low\n",
      "T/none/hl60low-granulocyte-aug/stardist/resnet-unet/F/001/014_granulocyte\n",
      "T/none/hl60low-granulocyte-aug/stardist/resnet-unet/F/001/015_hl60low\n",
      "T/none/hl60low-granulocyte-aug/stardist/resnet-unet/F/001/016_granulocyte\n",
      "T/none/hl60low-granulocyte-aug/stardist/resnet-unet/F/001/017_hl60low\n",
      "T/none/hl60low-granulocyte-aug/stardist/resnet-unet/F/001/018_granulocyte\n",
      "T/none/hl60low-granulocyte-aug/stardist/resnet-unet/F/001/019_hl60low\n",
      "T/none/hl60low-granulocyte-aug/stardist/resnet-unet/F/001/020_granulocyte\n",
      "T/none/hl60low-granulocyte-aug/stardist/resnet-unet/F/002/001_hl60low\n",
      "T/none/hl60low-granulocyte-aug/stardist/resnet-unet/F/002/002_granulocyte\n",
      "T/none/hl60low-granulocyte-aug/stardist/resnet-unet/F/002/003_hl60low\n",
      "T/none/hl60low-granulocyte-aug/stardist/resnet-unet/F/002/004_granulocyte\n",
      "T/none/hl60low-granulocyte-aug/stardist/resnet-unet/F/002/005_hl60low\n",
      "T/none/hl60low-granulocyte-aug/stardist/resnet-unet/F/002/006_granulocyte\n",
      "T/none/hl60low-granulocyte-aug/stardist/resnet-unet/F/002/007_hl60low\n",
      "T/none/hl60low-granulocyte-aug/stardist/resnet-unet/F/002/008_granulocyte\n",
      "T/none/hl60low-granulocyte-aug/stardist/resnet-unet/F/002/009_hl60low\n",
      "T/none/hl60low-granulocyte-aug/stardist/resnet-unet/F/002/010_granulocyte\n",
      "T/none/hl60low-granulocyte-aug/stardist/resnet-unet/F/002/011_hl60low\n",
      "T/none/hl60low-granulocyte-aug/stardist/resnet-unet/F/002/012_granulocyte\n",
      "T/none/hl60low-granulocyte-aug/stardist/resnet-unet/F/002/013_hl60low\n",
      "T/none/hl60low-granulocyte-aug/stardist/resnet-unet/F/002/014_granulocyte\n",
      "T/none/hl60low-granulocyte-aug/stardist/resnet-unet/F/002/015_hl60low\n",
      "T/none/hl60low-granulocyte-aug/stardist/resnet-unet/F/002/016_granulocyte\n",
      "T/none/hl60low-granulocyte-aug/stardist/resnet-unet/F/002/017_hl60low\n",
      "T/none/hl60low-granulocyte-aug/stardist/resnet-unet/F/002/018_granulocyte\n",
      "T/none/hl60low-granulocyte-aug/stardist/resnet-unet/F/002/019_hl60low\n",
      "T/none/hl60low-granulocyte-aug/stardist/resnet-unet/F/002/020_granulocyte\n",
      "T/none/hl60low-hl60high-granulocyte/stardist/resnet-unet/F/000/001_hl60low\n",
      "T/none/hl60low-hl60high-granulocyte/stardist/resnet-unet/F/000/002_hl60high\n",
      "T/none/hl60low-hl60high-granulocyte/stardist/resnet-unet/F/000/003_granulocyte\n",
      "T/none/hl60low-hl60high-granulocyte/stardist/resnet-unet/F/000/004_hl60low\n",
      "T/none/hl60low-hl60high-granulocyte/stardist/resnet-unet/F/000/005_hl60high\n",
      "T/none/hl60low-hl60high-granulocyte/stardist/resnet-unet/F/000/006_granulocyte\n",
      "T/none/hl60low-hl60high-granulocyte/stardist/resnet-unet/F/000/007_hl60low\n",
      "T/none/hl60low-hl60high-granulocyte/stardist/resnet-unet/F/000/008_hl60high\n",
      "T/none/hl60low-hl60high-granulocyte/stardist/resnet-unet/F/000/009_granulocyte\n",
      "T/none/hl60low-hl60high-granulocyte/stardist/resnet-unet/F/000/010_hl60low\n",
      "T/none/hl60low-hl60high-granulocyte/stardist/resnet-unet/F/000/011_hl60high\n",
      "T/none/hl60low-hl60high-granulocyte/stardist/resnet-unet/F/000/012_granulocyte\n",
      "T/none/hl60low-hl60high-granulocyte/stardist/resnet-unet/F/000/013_hl60low\n",
      "T/none/hl60low-hl60high-granulocyte/stardist/resnet-unet/F/000/014_hl60high\n",
      "T/none/hl60low-hl60high-granulocyte/stardist/resnet-unet/F/000/015_granulocyte\n",
      "T/none/hl60low-hl60high-granulocyte/stardist/resnet-unet/F/001/001_hl60low\n",
      "T/none/hl60low-hl60high-granulocyte/stardist/resnet-unet/F/001/002_hl60high\n",
      "T/none/hl60low-hl60high-granulocyte/stardist/resnet-unet/F/001/003_granulocyte\n",
      "T/none/hl60low-hl60high-granulocyte/stardist/resnet-unet/F/001/004_hl60low\n",
      "T/none/hl60low-hl60high-granulocyte/stardist/resnet-unet/F/001/005_hl60high\n",
      "T/none/hl60low-hl60high-granulocyte/stardist/resnet-unet/F/001/006_granulocyte\n",
      "T/none/hl60low-hl60high-granulocyte/stardist/resnet-unet/F/001/007_hl60low\n",
      "T/none/hl60low-hl60high-granulocyte/stardist/resnet-unet/F/001/008_hl60high\n",
      "T/none/hl60low-hl60high-granulocyte/stardist/resnet-unet/F/001/009_granulocyte\n",
      "T/none/hl60low-hl60high-granulocyte/stardist/resnet-unet/F/001/010_hl60low\n",
      "T/none/hl60low-hl60high-granulocyte/stardist/resnet-unet/F/001/011_hl60high\n",
      "T/none/hl60low-hl60high-granulocyte/stardist/resnet-unet/F/001/012_granulocyte\n",
      "T/none/hl60low-hl60high-granulocyte/stardist/resnet-unet/F/001/013_hl60low\n",
      "T/none/hl60low-hl60high-granulocyte/stardist/resnet-unet/F/001/014_hl60high\n",
      "T/none/hl60low-hl60high-granulocyte/stardist/resnet-unet/F/001/015_granulocyte\n",
      "T/none/hl60low-hl60high-granulocyte/stardist/resnet-unet/F/002/001_hl60low\n",
      "T/none/hl60low-hl60high-granulocyte/stardist/resnet-unet/F/002/002_hl60high\n",
      "T/none/hl60low-hl60high-granulocyte/stardist/resnet-unet/F/002/003_granulocyte\n",
      "T/none/hl60low-hl60high-granulocyte/stardist/resnet-unet/F/002/004_hl60low\n",
      "T/none/hl60low-hl60high-granulocyte/stardist/resnet-unet/F/002/005_hl60high\n",
      "T/none/hl60low-hl60high-granulocyte/stardist/resnet-unet/F/002/006_granulocyte\n",
      "T/none/hl60low-hl60high-granulocyte/stardist/resnet-unet/F/002/007_hl60low\n",
      "T/none/hl60low-hl60high-granulocyte/stardist/resnet-unet/F/002/008_hl60high\n",
      "T/none/hl60low-hl60high-granulocyte/stardist/resnet-unet/F/002/009_granulocyte\n",
      "T/none/hl60low-hl60high-granulocyte/stardist/resnet-unet/F/002/010_hl60low\n",
      "T/none/hl60low-hl60high-granulocyte/stardist/resnet-unet/F/002/011_hl60high\n",
      "T/none/hl60low-hl60high-granulocyte/stardist/resnet-unet/F/002/012_granulocyte\n",
      "T/none/hl60low-hl60high-granulocyte/stardist/resnet-unet/F/002/013_hl60low\n",
      "T/none/hl60low-hl60high-granulocyte/stardist/resnet-unet/F/002/014_hl60high\n",
      "T/none/hl60low-hl60high-granulocyte/stardist/resnet-unet/F/002/015_granulocyte\n",
      "Z/00_unet-csbdeep_fgbg-weighted_dsb2018-dataaug-2_R_F\n",
      "Z/00_unet-csbdeep_fgbg-weighted_dsb2018-dataaug_R_F\n",
      "Z/00_unet-csbdeep_fgbg-weighted_dsb2018_R_F\n",
      "Z/00_unet-csbdeep_fgbg-weighted_granulocyte_R_F\n",
      "Z/00_unet-csbdeep_fgbg-weighted_stardist-dsb2018_R_F\n",
      "Z/00_unet-csbdeep_stardist_hl60-high-noise_R_F\n",
      "Z/00_unet-csbdeep_stardist_hl60-low-noise_R_F\n",
      "Z/00_unet-csbdeep_stardist_stardist-dsb2018_R_F\n",
      "Z/00_unet-csbeep_fgbg_hl60-high_R_F\n",
      "Z/00_unet-csbeep_stardist_hl60-high_R_F\n",
      "Z/01_resnet-unet_stardist_dsb2018-dataau-0_R_F\n",
      "Z/01_resnet-unet_stardist_dsb2018-dataau-1_R_F\n",
      "Z/01_resnet-unet_stardist_dsb2018-dataau-2_R_F\n",
      "Z/01_resnet-unet_stardist_dsb2018-dataau-3_R_F\n",
      "Z/01_resnet-unet_stardist_dsb2018-dataau-4_R_F\n",
      "Z/01_resnet-unet_stardist_dsb2018-dataau-5_R_F\n",
      "Z/none/stardist-dsb2018/fgbg-weighted/resnet-unet/F/000\n",
      "Z/none/stardist-dsb2018/stardist/resnet-unet/F/000\n",
      "Zaug/none/dsb2018-aug-add/stardist/resnet-unet/F/000\n",
      "Zaug/none/dsb2018-aug-emboss/stardist/resnet-unet/F/000\n",
      "Zaug/none/dsb2018-aug-gamma/stardist/resnet-unet/F/000\n",
      "Zaug/none/dsb2018-aug-gaussblur/stardist/resnet-unet/F/000\n",
      "Zaug/none/dsb2018-aug-gaussnoise/stardist/resnet-unet/F/000\n",
      "Zaug/none/dsb2018-aug-invert/stardist/resnet-unet/F/000\n",
      "Zaug/none/dsb2018-aug-motion/stardist/resnet-unet/F/000\n",
      "Zaug/none/dsb2018-aug-sharpen/stardist/resnet-unet/F/000\n",
      "Zaug/none/dsb2018-aug/stardist/resnet-unet/F/000\n",
      "Zaug/none/dsb2018-aug/stardist/resnet-unet/F/001\n",
      "Zi/none/dsb2018/stardist/imagenet-resnet-unet/F/000\n",
      "Ztest\n"
     ]
    }
   ],
   "source": [
    "print('\\n'.join(utils.utils.list_model_names()))"
   ]
  },
  {
   "cell_type": "markdown",
   "metadata": {},
   "source": [
    "## Distances for specific models and datasets"
   ]
  },
  {
   "cell_type": "code",
   "execution_count": null,
   "metadata": {},
   "outputs": [],
   "source": [
    "def compute_distance_for(model_name, dataset_name):\n",
    "    # Get the model config\n",
    "    model_config = utils.utils.yaml_load(utils.utils.path_to_model_config(model_name))\n",
    "    # Get the data config\n",
    "    data_config = utils.utils.yaml_load(os.path.join('configs', 'data', dataset_name + '.yaml'))\n",
    "    # Compute the fenchet model distance\n",
    "    return data.compare.frenchet_model_distance(model_config, data_config, 'activation_1')"
   ]
  },
  {
   "cell_type": "code",
   "execution_count": null,
   "metadata": {},
   "outputs": [],
   "source": [
    "compute_distance_for(model_name='R/none/dsb2018/stardist/unet/F/000', \n",
    "                     dataset_name='hl60_low-noise')"
   ]
  },
  {
   "cell_type": "code",
   "execution_count": null,
   "metadata": {},
   "outputs": [],
   "source": [
    "compute_distance_for(model_name='R/none/hl60low/stardist/unet/F/000', \n",
    "                     dataset_name='dsb2018')"
   ]
  },
  {
   "cell_type": "code",
   "execution_count": null,
   "metadata": {},
   "outputs": [],
   "source": [
    "compute_distance_for(model_name='R/none/granulocyte/stardist/unet/F/000', \n",
    "                     dataset_name='dsb2018')"
   ]
  },
  {
   "cell_type": "markdown",
   "metadata": {},
   "source": [
    "## Distances for pretrained models"
   ]
  },
  {
   "cell_type": "code",
   "execution_count": 237,
   "metadata": {},
   "outputs": [],
   "source": [
    "def distance_for_model(model_name, feature_layer_name='activation_1', distance_metrics=['gmm'], num_samples=20):\n",
    "    # Get the model config\n",
    "    p_model_config = utils.utils.yaml_load(utils.utils.path_to_model_config(model_name))\n",
    "\n",
    "    # Get the pretrain model\n",
    "    weights_file = p_model_config['backbone']['weights']\n",
    "    r_model_config = utils.utils.yaml_load(os.path.join(weights_file.rpartition(os.path.sep)[0], 'config.yaml'))\n",
    "\n",
    "    return data.compare.model_distance(r_model_config,\n",
    "                                       p_model_config['data'],\n",
    "                                       feature_layer_name,\n",
    "                                       distance_metrics,\n",
    "                                       num_samples)"
   ]
  },
  {
   "cell_type": "code",
   "execution_count": 238,
   "metadata": {},
   "outputs": [],
   "source": [
    "def improvement_for_model(model_name, metric='ap_dsb2018#mean'):\n",
    "    name_parts = utils.utils.split_model_name(model_name)\n",
    "\n",
    "    # Get the models trained with random init\n",
    "    data_name = name_parts[utils.utils.DATA_NAME]\n",
    "    head_name = name_parts[utils.utils.HEAD_NAME]\n",
    "    backbone_name = name_parts[utils.utils.BACKBONE_NAME]\n",
    "    num_train = name_parts[utils.utils.NUM_TRAIN_NAME]\n",
    "    r_model_name_pattern = f'R/none/{data_name}/{head_name}/{backbone_name}/{num_train:03d}/.*'\n",
    "    r_model_names = utils.utils.list_model_names(pattern=r_model_name_pattern)\n",
    "    \n",
    "    # Mean of the results from the random init\n",
    "    r_results = utils.visualize._get_results_last(r_model_names, metric)\n",
    "    r_result_mean = np.mean(list(r_results.values()))\n",
    "    \n",
    "    # Result of the pretrained model\n",
    "    p_result = utils.visualize._get_results_last([model_name], metric)[model_name]\n",
    "    return p_result - r_result_mean"
   ]
  },
  {
   "cell_type": "code",
   "execution_count": 253,
   "metadata": {},
   "outputs": [],
   "source": [
    "model_names = utils.utils.list_model_names(pattern='P/.*/dsb2018/stardist/unet/(002|005|010)/.*')"
   ]
  },
  {
   "cell_type": "code",
   "execution_count": 266,
   "metadata": {
    "scrolled": true
   },
   "outputs": [
    {
     "name": "stderr",
     "output_type": "stream",
     "text": [
      "100%|██████████| 20/20 [00:01<00:00, 19.02it/s]\n",
      "100%|██████████| 20/20 [00:01<00:00, 17.20it/s]\n",
      "100%|██████████| 20/20 [00:01<00:00, 19.33it/s]\n",
      "100%|██████████| 20/20 [00:00<00:00, 21.69it/s]\n",
      "100%|██████████| 20/20 [00:01<00:00, 19.70it/s]\n",
      "100%|██████████| 20/20 [00:00<00:00, 22.99it/s]\n",
      "100%|██████████| 20/20 [00:01<00:00, 19.62it/s]\n",
      "100%|██████████| 20/20 [00:01<00:00, 19.27it/s]\n",
      "100%|██████████| 20/20 [00:00<00:00, 19.79it/s]\n",
      "100%|██████████| 20/20 [00:00<00:00, 23.49it/s]\n",
      "100%|██████████| 20/20 [00:00<00:00, 19.90it/s]\n",
      "100%|██████████| 20/20 [00:00<00:00, 21.94it/s]\n",
      "100%|██████████| 20/20 [00:01<00:00, 19.72it/s]\n",
      "100%|██████████| 20/20 [00:00<00:00, 20.92it/s]\n",
      "100%|██████████| 20/20 [00:00<00:00, 19.93it/s]\n",
      "100%|██████████| 20/20 [00:00<00:00, 25.41it/s]\n",
      "100%|██████████| 20/20 [00:01<00:00, 19.47it/s]\n",
      "100%|██████████| 20/20 [00:00<00:00, 24.68it/s]\n",
      "100%|██████████| 20/20 [00:00<00:00, 19.93it/s]\n",
      "100%|██████████| 20/20 [00:00<00:00, 19.27it/s]\n",
      "100%|██████████| 20/20 [00:01<00:00, 19.62it/s]\n",
      "100%|██████████| 20/20 [00:00<00:00, 20.79it/s]\n",
      "100%|██████████| 20/20 [00:01<00:00, 19.81it/s]\n",
      "100%|██████████| 20/20 [00:01<00:00, 17.83it/s]\n",
      "100%|██████████| 20/20 [00:01<00:00, 19.00it/s]\n",
      "100%|██████████| 20/20 [00:01<00:00, 19.54it/s]\n",
      "100%|██████████| 20/20 [00:01<00:00, 19.68it/s]\n",
      "100%|██████████| 20/20 [00:00<00:00, 20.76it/s]\n",
      "100%|██████████| 20/20 [00:01<00:00, 19.66it/s]\n",
      "100%|██████████| 20/20 [00:01<00:00, 19.33it/s]\n",
      "100%|██████████| 20/20 [00:01<00:00, 19.61it/s]\n",
      "100%|██████████| 20/20 [00:01<00:00, 17.84it/s]\n",
      "100%|██████████| 20/20 [00:01<00:00, 19.76it/s]\n",
      "100%|██████████| 20/20 [00:01<00:00, 17.90it/s]\n",
      "100%|██████████| 20/20 [00:00<00:00, 19.78it/s]\n",
      "100%|██████████| 20/20 [00:01<00:00, 19.66it/s]\n",
      "100%|██████████| 20/20 [00:00<00:00, 19.92it/s]\n",
      "100%|██████████| 20/20 [00:01<00:00, 17.08it/s]\n",
      "100%|██████████| 20/20 [00:01<00:00, 19.53it/s]\n",
      "100%|██████████| 20/20 [00:00<00:00, 24.64it/s]\n",
      "100%|██████████| 20/20 [00:01<00:00, 19.62it/s]\n",
      "100%|██████████| 20/20 [00:00<00:00, 23.67it/s]\n",
      "100%|██████████| 20/20 [00:01<00:00, 19.73it/s]\n",
      "100%|██████████| 20/20 [00:01<00:00, 18.43it/s]\n",
      "100%|██████████| 20/20 [00:01<00:00, 19.32it/s]\n",
      "100%|██████████| 20/20 [00:00<00:00, 17.96it/s]\n",
      "100%|██████████| 20/20 [00:01<00:00, 19.57it/s]\n",
      "100%|██████████| 20/20 [00:00<00:00, 22.65it/s]\n",
      "100%|██████████| 20/20 [00:01<00:00, 19.79it/s]\n",
      "100%|██████████| 20/20 [00:00<00:00, 22.24it/s]\n",
      "100%|██████████| 20/20 [00:01<00:00, 19.84it/s]\n",
      "100%|██████████| 20/20 [00:00<00:00, 18.95it/s]\n",
      "100%|██████████| 20/20 [00:01<00:00, 19.65it/s]\n",
      "100%|██████████| 20/20 [00:00<00:00, 21.52it/s]\n",
      "100%|██████████| 20/20 [00:00<00:00, 20.31it/s]\n",
      "100%|██████████| 20/20 [00:01<00:00, 18.58it/s]\n",
      "100%|██████████| 20/20 [00:01<00:00, 19.28it/s]\n",
      "100%|██████████| 20/20 [00:00<00:00, 20.85it/s]\n",
      "100%|██████████| 20/20 [00:01<00:00, 19.68it/s]\n",
      "100%|██████████| 20/20 [00:00<00:00, 20.28it/s]\n"
     ]
    }
   ],
   "source": [
    "model_distances = []\n",
    "improvements = []\n",
    "\n",
    "for model_name in model_names:\n",
    "    model_distances.append(distance_for_model(model_name, feature_layer_name='features_up2_relu2'))\n",
    "    improvements.append(improvement_for_model(model_name))"
   ]
  },
  {
   "cell_type": "code",
   "execution_count": 267,
   "metadata": {},
   "outputs": [],
   "source": [
    "df = pd.DataFrame({'model_name': model_names,\n",
    "              'distance': [d[0] for d in model_distances],\n",
    "              'improvement': improvements})"
   ]
  },
  {
   "cell_type": "code",
   "execution_count": 270,
   "metadata": {},
   "outputs": [
    {
     "data": {
      "text/html": [
       "<div>\n",
       "<style scoped>\n",
       "    .dataframe tbody tr th:only-of-type {\n",
       "        vertical-align: middle;\n",
       "    }\n",
       "\n",
       "    .dataframe tbody tr th {\n",
       "        vertical-align: top;\n",
       "    }\n",
       "\n",
       "    .dataframe thead th {\n",
       "        text-align: right;\n",
       "    }\n",
       "</style>\n",
       "<table border=\"1\" class=\"dataframe\">\n",
       "  <thead>\n",
       "    <tr style=\"text-align: right;\">\n",
       "      <th></th>\n",
       "      <th>model_name</th>\n",
       "      <th>distance</th>\n",
       "      <th>improvement</th>\n",
       "    </tr>\n",
       "  </thead>\n",
       "  <tbody>\n",
       "    <tr>\n",
       "      <th>0</th>\n",
       "      <td>P/granulocyte/dsb2018/stardist/unet/002/000</td>\n",
       "      <td>201.013670</td>\n",
       "      <td>-0.001222</td>\n",
       "    </tr>\n",
       "    <tr>\n",
       "      <th>1</th>\n",
       "      <td>P/granulocyte/dsb2018/stardist/unet/002/001</td>\n",
       "      <td>200.793833</td>\n",
       "      <td>-0.000600</td>\n",
       "    </tr>\n",
       "    <tr>\n",
       "      <th>2</th>\n",
       "      <td>P/granulocyte/dsb2018/stardist/unet/002/002</td>\n",
       "      <td>203.182122</td>\n",
       "      <td>0.002298</td>\n",
       "    </tr>\n",
       "    <tr>\n",
       "      <th>3</th>\n",
       "      <td>P/granulocyte/dsb2018/stardist/unet/002/003</td>\n",
       "      <td>201.100783</td>\n",
       "      <td>-0.001576</td>\n",
       "    </tr>\n",
       "    <tr>\n",
       "      <th>4</th>\n",
       "      <td>P/granulocyte/dsb2018/stardist/unet/002/004</td>\n",
       "      <td>212.976483</td>\n",
       "      <td>-0.001680</td>\n",
       "    </tr>\n",
       "    <tr>\n",
       "      <th>15</th>\n",
       "      <td>P/hl60low/dsb2018/stardist/unet/002/000</td>\n",
       "      <td>96.681161</td>\n",
       "      <td>-0.003277</td>\n",
       "    </tr>\n",
       "    <tr>\n",
       "      <th>16</th>\n",
       "      <td>P/hl60low/dsb2018/stardist/unet/002/001</td>\n",
       "      <td>67.220783</td>\n",
       "      <td>-0.001238</td>\n",
       "    </tr>\n",
       "    <tr>\n",
       "      <th>17</th>\n",
       "      <td>P/hl60low/dsb2018/stardist/unet/002/002</td>\n",
       "      <td>38.447193</td>\n",
       "      <td>-0.006535</td>\n",
       "    </tr>\n",
       "    <tr>\n",
       "      <th>18</th>\n",
       "      <td>P/hl60low/dsb2018/stardist/unet/002/003</td>\n",
       "      <td>53.195323</td>\n",
       "      <td>-0.003748</td>\n",
       "    </tr>\n",
       "    <tr>\n",
       "      <th>19</th>\n",
       "      <td>P/hl60low/dsb2018/stardist/unet/002/004</td>\n",
       "      <td>117.362161</td>\n",
       "      <td>-0.002231</td>\n",
       "    </tr>\n",
       "  </tbody>\n",
       "</table>\n",
       "</div>"
      ],
      "text/plain": [
       "                                     model_name    distance  improvement\n",
       "0   P/granulocyte/dsb2018/stardist/unet/002/000  201.013670    -0.001222\n",
       "1   P/granulocyte/dsb2018/stardist/unet/002/001  200.793833    -0.000600\n",
       "2   P/granulocyte/dsb2018/stardist/unet/002/002  203.182122     0.002298\n",
       "3   P/granulocyte/dsb2018/stardist/unet/002/003  201.100783    -0.001576\n",
       "4   P/granulocyte/dsb2018/stardist/unet/002/004  212.976483    -0.001680\n",
       "15      P/hl60low/dsb2018/stardist/unet/002/000   96.681161    -0.003277\n",
       "16      P/hl60low/dsb2018/stardist/unet/002/001   67.220783    -0.001238\n",
       "17      P/hl60low/dsb2018/stardist/unet/002/002   38.447193    -0.006535\n",
       "18      P/hl60low/dsb2018/stardist/unet/002/003   53.195323    -0.003748\n",
       "19      P/hl60low/dsb2018/stardist/unet/002/004  117.362161    -0.002231"
      ]
     },
     "execution_count": 270,
     "metadata": {},
     "output_type": "execute_result"
    }
   ],
   "source": [
    "df[df['model_name'].str.contains('/002/')]"
   ]
  },
  {
   "cell_type": "code",
   "execution_count": 273,
   "metadata": {},
   "outputs": [
    {
     "data": {
      "text/plain": [
       "<matplotlib.axes._subplots.AxesSubplot at 0x7fec929d3f28>"
      ]
     },
     "execution_count": 273,
     "metadata": {},
     "output_type": "execute_result"
    },
    {
     "data": {
      "image/png": "[encoded data removed]",
      "text/plain": [
       "<Figure size 432x288 with 1 Axes>"
      ]
     },
     "metadata": {
      "needs_background": "light"
     },
     "output_type": "display_data"
    }
   ],
   "source": [
    "df[df['model_name'].str.contains('/010/')].plot.scatter(x='distance', y='improvement')"
   ]
  },
  {
   "cell_type": "code",
   "execution_count": null,
   "metadata": {},
   "outputs": [],
   "source": [
    "model_name = 'C{:02d}_unet_stardist_dsb2018_R_F'\n",
    "dataset_name = 'granulocyte'\n",
    "distances = [compute_distance_for(model_name.format(i), dataset_name) for i in range(5)]"
   ]
  },
  {
   "cell_type": "code",
   "execution_count": null,
   "metadata": {},
   "outputs": [],
   "source": [
    "import seaborn as sns\n",
    "import pandas as pd\n",
    "\n",
    "sns.barplot(x=list(range(5)), y=distances)"
   ]
  },
  {
   "cell_type": "markdown",
   "metadata": {},
   "source": [
    "## Tests with KL"
   ]
  },
  {
   "cell_type": "code",
   "execution_count": 41,
   "metadata": {
    "scrolled": true
   },
   "outputs": [
    {
     "name": "stderr",
     "output_type": "stream",
     "text": [
      "100%|██████████| 5/5 [00:00<00:00,  9.04it/s]\n",
      "100%|██████████| 5/5 [00:00<00:00, 11.83it/s]\n",
      "100%|██████████| 5/5 [00:00<00:00,  9.63it/s]\n",
      "100%|██████████| 5/5 [00:00<00:00, 11.67it/s]\n",
      "100%|██████████| 5/5 [00:00<00:00,  9.34it/s]\n",
      "100%|██████████| 5/5 [00:00<00:00, 11.58it/s]\n",
      "100%|██████████| 5/5 [00:00<00:00,  9.22it/s]\n",
      "100%|██████████| 5/5 [00:00<00:00, 11.82it/s]\n",
      "100%|██████████| 5/5 [00:00<00:00,  9.20it/s]\n",
      "100%|██████████| 5/5 [00:00<00:00, 11.59it/s]\n",
      "100%|██████████| 5/5 [00:00<00:00,  9.59it/s]\n",
      "100%|██████████| 5/5 [00:00<00:00, 11.65it/s]\n",
      "100%|██████████| 5/5 [00:00<00:00,  9.83it/s]\n",
      "100%|██████████| 5/5 [00:00<00:00, 11.69it/s]\n",
      "100%|██████████| 5/5 [00:00<00:00,  9.56it/s]\n",
      "100%|██████████| 5/5 [00:00<00:00, 11.94it/s]\n",
      "100%|██████████| 5/5 [00:00<00:00,  9.36it/s]\n",
      "100%|██████████| 5/5 [00:00<00:00, 11.42it/s]\n",
      "100%|██████████| 5/5 [00:00<00:00,  9.47it/s]\n",
      "100%|██████████| 5/5 [00:00<00:00, 11.68it/s]\n",
      "100%|██████████| 5/5 [00:00<00:00,  9.44it/s]\n",
      "100%|██████████| 5/5 [00:00<00:00, 11.37it/s]\n",
      "100%|██████████| 5/5 [00:00<00:00,  9.54it/s]\n",
      "100%|██████████| 5/5 [00:00<00:00, 11.52it/s]\n",
      "100%|██████████| 5/5 [00:00<00:00,  9.60it/s]\n",
      "100%|██████████| 5/5 [00:00<00:00, 11.74it/s]\n",
      "100%|██████████| 5/5 [00:00<00:00,  9.49it/s]\n",
      "100%|██████████| 5/5 [00:00<00:00, 11.61it/s]\n",
      "100%|██████████| 5/5 [00:00<00:00,  9.40it/s]\n",
      "100%|██████████| 5/5 [00:00<00:00, 11.43it/s]\n",
      "100%|██████████| 5/5 [00:00<00:00,  9.01it/s]\n",
      "100%|██████████| 5/5 [00:00<00:00, 11.87it/s]\n",
      "100%|██████████| 5/5 [00:00<00:00,  9.36it/s]\n",
      "100%|██████████| 5/5 [00:00<00:00, 11.31it/s]\n",
      "100%|██████████| 5/5 [00:00<00:00,  9.22it/s]\n",
      "100%|██████████| 5/5 [00:00<00:00, 11.72it/s]\n",
      "100%|██████████| 5/5 [00:00<00:00,  9.34it/s]\n",
      "100%|██████████| 5/5 [00:00<00:00, 11.84it/s]\n",
      "100%|██████████| 5/5 [00:00<00:00,  9.21it/s]\n",
      "100%|██████████| 5/5 [00:00<00:00, 11.49it/s]\n",
      "100%|██████████| 5/5 [00:00<00:00,  9.40it/s]\n",
      "100%|██████████| 5/5 [00:00<00:00, 11.45it/s]\n",
      "100%|██████████| 5/5 [00:00<00:00,  9.33it/s]\n",
      "100%|██████████| 5/5 [00:00<00:00, 11.65it/s]\n",
      "100%|██████████| 5/5 [00:00<00:00,  9.43it/s]\n",
      "100%|██████████| 5/5 [00:00<00:00, 11.44it/s]\n",
      "100%|██████████| 5/5 [00:00<00:00,  9.01it/s]\n",
      "100%|██████████| 5/5 [00:00<00:00, 11.77it/s]\n",
      "100%|██████████| 5/5 [00:00<00:00,  9.43it/s]\n",
      "100%|██████████| 5/5 [00:00<00:00, 11.64it/s]\n",
      "100%|██████████| 5/5 [00:00<00:00,  9.54it/s]\n",
      "100%|██████████| 5/5 [00:00<00:00, 11.90it/s]\n",
      "100%|██████████| 5/5 [00:00<00:00,  9.27it/s]\n",
      "100%|██████████| 5/5 [00:00<00:00, 11.50it/s]\n",
      "100%|██████████| 5/5 [00:00<00:00,  9.41it/s]\n",
      "100%|██████████| 5/5 [00:00<00:00, 11.55it/s]\n",
      "100%|██████████| 5/5 [00:00<00:00,  9.19it/s]\n",
      "100%|██████████| 5/5 [00:00<00:00, 11.42it/s]\n",
      "100%|██████████| 5/5 [00:00<00:00,  9.32it/s]\n",
      "100%|██████████| 5/5 [00:00<00:00, 11.57it/s]\n",
      "100%|██████████| 5/5 [00:00<00:00,  9.07it/s]\n",
      "100%|██████████| 5/5 [00:00<00:00, 11.92it/s]\n",
      "100%|██████████| 5/5 [00:00<00:00,  9.17it/s]\n",
      "100%|██████████| 5/5 [00:00<00:00, 11.53it/s]\n",
      "100%|██████████| 5/5 [00:00<00:00,  9.32it/s]\n",
      "100%|██████████| 5/5 [00:00<00:00, 11.52it/s]\n",
      "100%|██████████| 5/5 [00:00<00:00,  9.49it/s]\n",
      "100%|██████████| 5/5 [00:00<00:00, 11.55it/s]\n",
      "100%|██████████| 5/5 [00:00<00:00,  9.37it/s]\n",
      "100%|██████████| 5/5 [00:00<00:00, 11.58it/s]\n",
      "100%|██████████| 5/5 [00:00<00:00,  9.38it/s]\n",
      "100%|██████████| 5/5 [00:00<00:00, 11.86it/s]\n",
      "100%|██████████| 5/5 [00:00<00:00,  9.26it/s]\n",
      "100%|██████████| 5/5 [00:00<00:00, 11.45it/s]\n",
      "100%|██████████| 5/5 [00:00<00:00,  9.07it/s]\n",
      "100%|██████████| 5/5 [00:00<00:00, 11.98it/s]\n",
      "100%|██████████| 5/5 [00:00<00:00,  9.36it/s]\n",
      "100%|██████████| 5/5 [00:00<00:00, 11.58it/s]\n",
      "100%|██████████| 5/5 [00:00<00:00,  9.16it/s]\n",
      "100%|██████████| 5/5 [00:00<00:00, 11.29it/s]\n",
      "100%|██████████| 5/5 [00:00<00:00,  9.35it/s]\n",
      "100%|██████████| 5/5 [00:00<00:00, 11.47it/s]\n",
      "100%|██████████| 5/5 [00:00<00:00,  9.50it/s]\n",
      "100%|██████████| 5/5 [00:00<00:00, 11.16it/s]\n",
      "100%|██████████| 5/5 [00:00<00:00,  9.51it/s]\n",
      "100%|██████████| 5/5 [00:00<00:00, 11.82it/s]\n",
      "100%|██████████| 5/5 [00:00<00:00,  9.48it/s]\n",
      "100%|██████████| 5/5 [00:00<00:00, 11.66it/s]\n",
      "100%|██████████| 5/5 [00:00<00:00,  9.43it/s]\n",
      "100%|██████████| 5/5 [00:00<00:00, 11.77it/s]\n",
      "100%|██████████| 5/5 [00:00<00:00,  9.31it/s]\n",
      "100%|██████████| 5/5 [00:00<00:00, 11.47it/s]\n",
      "100%|██████████| 5/5 [00:00<00:00,  9.24it/s]\n",
      "100%|██████████| 5/5 [00:00<00:00, 11.41it/s]\n",
      "100%|██████████| 5/5 [00:00<00:00,  9.43it/s]\n",
      "100%|██████████| 5/5 [00:00<00:00, 11.12it/s]\n",
      "100%|██████████| 5/5 [00:00<00:00,  9.50it/s]\n",
      "100%|██████████| 5/5 [00:00<00:00, 11.51it/s]\n",
      "100%|██████████| 5/5 [00:00<00:00,  9.31it/s]\n",
      "100%|██████████| 5/5 [00:00<00:00, 11.58it/s]\n"
     ]
    },
    {
     "name": "stdout",
     "output_type": "stream",
     "text": [
      "[ 1825.01819122   633.59652077  1032.21324035  1662.57033405\n",
      "   639.02065875  1010.48665914  1890.67562793  1440.05945812\n",
      "   613.08828472  1384.38519439   633.85486072   607.80119776\n",
      "   642.31271602  1379.65531062  1592.44967097  1551.20208628\n",
      "   614.63327627  1870.76914406  1170.59044527  1098.42127527\n",
      "  1260.79406682  1178.82409313 64007.68610448  1055.41540204\n",
      "   610.28471604   613.63663331  1180.81799234   902.3461854\n",
      "  1685.48347193   633.14933199   611.9966659    650.96158992\n",
      "  1727.44036709  1652.03227934  1697.35027304   629.20842804\n",
      "   635.4113857   1557.39101987  1838.39744909  1657.28630432\n",
      "  1603.6381305   1869.83009437   625.53160687  1125.93485884\n",
      "  1864.36733101  1229.41620976  1636.98432054   612.3053246\n",
      "  1423.5677092    909.34612781]\n",
      "2439.5927925195983\n",
      "8807.357914109574\n"
     ]
    }
   ],
   "source": [
    "res = []\n",
    "for i in range(50):\n",
    "    res.append(distance_for_model('P/dsb2018/granulocyte/stardist/unet/002/002',\n",
    "                       distance_metrics=['gmm_kl'],\n",
    "                       num_samples=[1,2,3,4,5])[0])\n",
    "res = np.array(res)\n",
    "print(res)\n",
    "print(np.mean(res))\n",
    "print(np.std(res))"
   ]
  },
  {
   "cell_type": "code",
   "execution_count": 54,
   "metadata": {
    "scrolled": true
   },
   "outputs": [
    {
     "name": "stderr",
     "output_type": "stream",
     "text": [
      "100%|██████████| 5/5 [00:00<00:00,  9.42it/s]\n",
      "100%|██████████| 5/5 [00:00<00:00, 11.82it/s]\n"
     ]
    },
    {
     "name": "stdout",
     "output_type": "stream",
     "text": [
      "[502.88615582 502.84276621 488.16384043 ... 217.74412271 221.83270346\n",
      " 228.29728742]\n",
      "[423.57643116 442.75886566 422.36975046 ... 278.20178421 274.17927769\n",
      " 289.02024231]\n"
     ]
    },
    {
     "data": {
      "text/plain": [
       "[0.3465735902799736]"
      ]
     },
     "execution_count": 54,
     "metadata": {},
     "output_type": "execute_result"
    }
   ],
   "source": [
    "distance_for_model('P/dsb2018/hl60low/stardist/unet/002/004',\n",
    "                   distance_metrics=['gmm_js'],\n",
    "                   num_samples=[1,2,3,4,5])"
   ]
  },
  {
   "cell_type": "code",
   "execution_count": 236,
   "metadata": {},
   "outputs": [
    {
     "name": "stderr",
     "output_type": "stream",
     "text": [
      "100%|██████████| 20/20 [00:01<00:00, 10.26it/s]\n",
      "100%|██████████| 20/20 [00:01<00:00, 11.57it/s]\n"
     ]
    },
    {
     "data": {
      "text/plain": [
       "235.34714619399685"
      ]
     },
     "execution_count": 236,
     "metadata": {},
     "output_type": "execute_result"
    }
   ],
   "source": [
    "distance_for_model('P/dsb2018/granulocyte/stardist/unet/002/002',\n",
    "                   distance_metrics=['gmm'])[0]"
   ]
  },
  {
   "cell_type": "code",
   "execution_count": 145,
   "metadata": {},
   "outputs": [
    {
     "data": {
      "text/plain": [
       "0.2"
      ]
     },
     "execution_count": 145,
     "metadata": {},
     "output_type": "execute_result"
    }
   ],
   "source": [
    "np.mean(gmm.predict_proba(features_2))"
   ]
  },
  {
   "cell_type": "code",
   "execution_count": 225,
   "metadata": {},
   "outputs": [],
   "source": [
    "probs = np.exp(gmm.score_samples(features_2))"
   ]
  },
  {
   "cell_type": "code",
   "execution_count": 226,
   "metadata": {},
   "outputs": [
    {
     "data": {
      "text/plain": [
       "2.0073713251611296e+147"
      ]
     },
     "execution_count": 226,
     "metadata": {},
     "output_type": "execute_result"
    }
   ],
   "source": [
    "np.mean(probs)"
   ]
  },
  {
   "cell_type": "code",
   "execution_count": 171,
   "metadata": {},
   "outputs": [
    {
     "data": {
      "text/plain": [
       "array([135.85208689])"
      ]
     },
     "execution_count": 171,
     "metadata": {},
     "output_type": "execute_result"
    }
   ],
   "source": [
    "gmm.score_samples([features_2[0]])"
   ]
  },
  {
   "cell_type": "code",
   "execution_count": 166,
   "metadata": {},
   "outputs": [
    {
     "data": {
      "text/plain": [
       "348.16533841427673"
      ]
     },
     "execution_count": 166,
     "metadata": {},
     "output_type": "execute_result"
    }
   ],
   "source": [
    "np.max(probs)"
   ]
  },
  {
   "cell_type": "code",
   "execution_count": 169,
   "metadata": {
    "scrolled": true
   },
   "outputs": [
    {
     "data": {
      "text/plain": [
       "array([9.99566493e+058, 7.02364424e+101, 1.01057875e+103, ...,\n",
       "       5.45410305e+083, 6.00987657e+111, 2.90416924e+090])"
      ]
     },
     "execution_count": 169,
     "metadata": {},
     "output_type": "execute_result"
    }
   ],
   "source": [
    "np.exp(probs)"
   ]
  },
  {
   "cell_type": "code",
   "execution_count": 223,
   "metadata": {},
   "outputs": [
    {
     "name": "stderr",
     "output_type": "stream",
     "text": [
      "/home/benjamin/miniconda3/envs/bachelorthesis/lib/python3.6/site-packages/scipy/stats/stats.py:2275: RuntimeWarning: Mean of empty slice.\n",
      "  mns = a.mean(axis=axis)\n",
      "/home/benjamin/miniconda3/envs/bachelorthesis/lib/python3.6/site-packages/numpy/core/_methods.py:85: RuntimeWarning: invalid value encountered in double_scalars\n",
      "  ret = ret.dtype.type(ret / rcount)\n",
      "/home/benjamin/miniconda3/envs/bachelorthesis/lib/python3.6/site-packages/numpy/core/_methods.py:140: RuntimeWarning: Degrees of freedom <= 0 for slice\n",
      "  keepdims=keepdims)\n",
      "/home/benjamin/miniconda3/envs/bachelorthesis/lib/python3.6/site-packages/numpy/core/_methods.py:110: RuntimeWarning: invalid value encountered in true_divide\n",
      "  arrmean, rcount, out=arrmean, casting='unsafe', subok=False)\n",
      "/home/benjamin/miniconda3/envs/bachelorthesis/lib/python3.6/site-packages/numpy/core/_methods.py:132: RuntimeWarning: invalid value encountered in double_scalars\n",
      "  ret = ret.dtype.type(ret / rcount)\n"
     ]
    },
    {
     "data": {
      "text/plain": [
       "{'whiskers': [<matplotlib.lines.Line2D at 0x7fec2c0a21d0>,\n",
       "  <matplotlib.lines.Line2D at 0x7fec2c0a2518>],\n",
       " 'caps': [<matplotlib.lines.Line2D at 0x7fec2c0a2860>,\n",
       "  <matplotlib.lines.Line2D at 0x7fec2c0a2ba8>],\n",
       " 'boxes': [<matplotlib.lines.Line2D at 0x7fec2c0a2080>],\n",
       " 'medians': [<matplotlib.lines.Line2D at 0x7fec2c0a2ef0>],\n",
       " 'fliers': [<matplotlib.lines.Line2D at 0x7fec2c0bb278>],\n",
       " 'means': []}"
      ]
     },
     "execution_count": 223,
     "metadata": {},
     "output_type": "execute_result"
    },
    {
     "data": {
      "image/png": "[encoded data removed]",
      "text/plain": [
       "<Figure size 432x288 with 1 Axes>"
      ]
     },
     "metadata": {
      "needs_background": "light"
     },
     "output_type": "display_data"
    }
   ],
   "source": [
    "plt.boxplot(probs)"
   ]
  },
  {
   "cell_type": "code",
   "execution_count": 133,
   "metadata": {},
   "outputs": [
    {
     "name": "stderr",
     "output_type": "stream",
     "text": [
      "100%|██████████| 20/20 [00:01<00:00, 11.37it/s]\n",
      "100%|██████████| 20/20 [00:01<00:00, 11.42it/s]\n",
      "100%|██████████| 20/20 [00:02<00:00,  8.91it/s]\n",
      "100%|██████████| 20/20 [00:01<00:00, 11.82it/s]\n",
      "100%|██████████| 20/20 [00:01<00:00, 10.63it/s]\n",
      "100%|██████████| 20/20 [00:01<00:00, 11.47it/s]\n",
      "100%|██████████| 20/20 [00:01<00:00, 12.36it/s]\n",
      "100%|██████████| 20/20 [00:01<00:00, 11.62it/s]\n",
      "100%|██████████| 20/20 [00:03<00:00,  6.63it/s]\n",
      "100%|██████████| 20/20 [00:01<00:00, 11.40it/s]\n",
      "100%|██████████| 20/20 [00:01<00:00, 11.15it/s]\n",
      "100%|██████████| 20/20 [00:01<00:00, 11.68it/s]\n",
      "100%|██████████| 20/20 [00:01<00:00, 11.65it/s]\n",
      "100%|██████████| 20/20 [00:01<00:00, 11.60it/s]\n",
      "100%|██████████| 20/20 [00:01<00:00, 12.45it/s]\n",
      "100%|██████████| 20/20 [00:01<00:00, 11.70it/s]\n",
      "100%|██████████| 20/20 [00:01<00:00, 10.75it/s]\n",
      "100%|██████████| 20/20 [00:01<00:00, 11.68it/s]\n",
      "100%|██████████| 20/20 [00:01<00:00, 11.19it/s]\n",
      "100%|██████████| 20/20 [00:01<00:00, 11.43it/s]\n"
     ]
    },
    {
     "name": "stdout",
     "output_type": "stream",
     "text": [
      "[286.85239205 283.14037717 273.79011963 249.87588215 276.60956081\n",
      " 264.34653383 287.56297685 281.75710307 269.31835155 272.14692593]\n",
      "274.54002230354763\n",
      "10.942162804653282\n"
     ]
    }
   ],
   "source": [
    "res = []\n",
    "for i in range(10):\n",
    "    res.append(distance_for_model('P/dsb2018/granulocyte/stardist/unet/002/002',\n",
    "                       distance_metrics=['gmm'],\n",
    "                       num_samples=20)[0])\n",
    "res = np.array(res)\n",
    "print(res)\n",
    "print(np.mean(res))\n",
    "print(np.std(res))"
   ]
  },
  {
   "cell_type": "code",
   "execution_count": 112,
   "metadata": {},
   "outputs": [],
   "source": [
    "from scipy import stats\n",
    "\n",
    "z = np.abs(stats.zscore(scores))"
   ]
  },
  {
   "cell_type": "code",
   "execution_count": 118,
   "metadata": {},
   "outputs": [],
   "source": [
    "scores_no_outliers = scores[z <= 3]"
   ]
  },
  {
   "cell_type": "code",
   "execution_count": 122,
   "metadata": {},
   "outputs": [],
   "source": [
    "z_2 = np.abs(stats.zscore(scores_no_outliers))\n",
    "scores_no_outliers_2 = scores_no_outliers[z_2 <= 3]"
   ]
  },
  {
   "cell_type": "code",
   "execution_count": 123,
   "metadata": {},
   "outputs": [
    {
     "data": {
      "text/plain": [
       "{'whiskers': [<matplotlib.lines.Line2D at 0x7fec9283deb8>,\n",
       "  <matplotlib.lines.Line2D at 0x7fec92802240>],\n",
       " 'caps': [<matplotlib.lines.Line2D at 0x7fec92802588>,\n",
       "  <matplotlib.lines.Line2D at 0x7fec928028d0>],\n",
       " 'boxes': [<matplotlib.lines.Line2D at 0x7fec9283dd68>],\n",
       " 'medians': [<matplotlib.lines.Line2D at 0x7fec92802c18>],\n",
       " 'fliers': [<matplotlib.lines.Line2D at 0x7fec92802f60>],\n",
       " 'means': []}"
      ]
     },
     "execution_count": 123,
     "metadata": {},
     "output_type": "execute_result"
    },
    {
     "data": {
      "image/png": "[encoded data removed]",
      "text/plain": [
       "<Figure size 432x288 with 1 Axes>"
      ]
     },
     "metadata": {
      "needs_background": "light"
     },
     "output_type": "display_data"
    }
   ],
   "source": [
    "import matplotlib.pyplot as plt\n",
    "\n",
    "plt.boxplot(scores_no_outliers_2)"
   ]
  },
  {
   "cell_type": "code",
   "execution_count": 73,
   "metadata": {},
   "outputs": [
    {
     "data": {
      "text/plain": [
       "383.95347125557544"
      ]
     },
     "execution_count": 73,
     "metadata": {},
     "output_type": "execute_result"
    }
   ],
   "source": [
    "np.mean(gmm_a.score_samples(X))"
   ]
  },
  {
   "cell_type": "code",
   "execution_count": 28,
   "metadata": {},
   "outputs": [
    {
     "data": {
      "text/plain": [
       "array([ 2.55308827,  1.52968071, -0.31176553, -0.01108352, -0.45605887,\n",
       "       -0.637676  , -0.54860263, -0.56549732, -0.56786084, -0.52609402,\n",
       "       -0.45813026])"
      ]
     },
     "execution_count": 28,
     "metadata": {},
     "output_type": "execute_result"
    }
   ],
   "source": [
    "bic = [-5124056.947580278, -6088970.0099516455, -7825165.432037428, -7541669.380319952, -7961211.454268431, -8132447.96610913, -8048465.72341832, -8064394.772778989, -8066623.199008973, -8027243.637015863, -7963164.449253852]\n",
    "bic = np.array(bic)\n",
    "bic = (bic - np.mean(bic)) / np.std(bic)\n",
    "bic"
   ]
  },
  {
   "cell_type": "code",
   "execution_count": 30,
   "metadata": {},
   "outputs": [
    {
     "data": {
      "text/plain": [
       "array([ 2.62376264,  1.39855773, -0.00539916, -0.31864998, -0.77647477,\n",
       "       -0.42728671, -0.48077239, -0.47352922, -0.40727034, -0.49633779,\n",
       "       -0.63660001])"
      ]
     },
     "execution_count": 30,
     "metadata": {},
     "output_type": "execute_result"
    }
   ],
   "source": [
    "bic = [-5007589.102622675, -6224901.243342034, -7619813.843778, -7931046.694660291, -8385922.17452652, -8038983.586599671, -8092124.714317061, -8084928.199852173, -8019096.164722523, -8107589.84585533, -8246948.496297529]\n",
    "bic = np.array(bic)\n",
    "bic = (bic - np.mean(bic)) / np.std(bic)\n",
    "bic"
   ]
  },
  {
   "cell_type": "code",
   "execution_count": 32,
   "metadata": {},
   "outputs": [
    {
     "data": {
      "text/plain": [
       "array([ 2.22399027,  1.22897569,  1.24187924, -0.33980562, -0.80604229,\n",
       "       -0.44686363, -0.4936702 , -0.50035666, -0.84377721, -0.50752292,\n",
       "       -0.75680666])"
      ]
     },
     "execution_count": 32,
     "metadata": {},
     "output_type": "execute_result"
    }
   ],
   "source": [
    "bic = [-5067327.377639387, -6149177.571574167, -6135147.923640884, -7854867.531895772, -8361792.998926982, -7971268.567160127, -8022159.973261829, -8029429.965285071, -8402821.074355008, -8037221.63878229, -8308260.545259206]\n",
    "bic = np.array(bic)\n",
    "bic = (bic - np.mean(bic)) / np.std(bic)\n",
    "bic"
   ]
  },
  {
   "cell_type": "code",
   "execution_count": 34,
   "metadata": {},
   "outputs": [
    {
     "data": {
      "text/plain": [
       "array([ 2.6256627 ,  1.46947801, -0.2541854 , -0.35313123, -0.58059027,\n",
       "       -0.4726439 , -0.48974189, -0.48654535, -0.57279741, -0.44503557,\n",
       "       -0.44046968])"
      ]
     },
     "execution_count": 34,
     "metadata": {},
     "output_type": "execute_result"
    }
   ],
   "source": [
    "bic = [-5067327.377639387, -6149177.571574167, -7762021.634738796, -7854605.951378641, -8067440.98683827, -7966434.796300796, -7982433.514507938, -7979442.48704604, -8060149.147563323, -7940601.490216804, -7936329.151462341]\n",
    "bic = np.array(bic)\n",
    "bic = (bic - np.mean(bic)) / np.std(bic)\n",
    "bic"
   ]
  },
  {
   "cell_type": "code",
   "execution_count": 37,
   "metadata": {},
   "outputs": [
    {
     "data": {
      "text/plain": [
       "array([ 2.2305013 ,  1.17979718,  1.30905287, -0.42015079, -0.83984262,\n",
       "       -0.54526116, -0.51488568, -0.59999749, -0.54750495, -0.49956518,\n",
       "       -0.75214348])"
      ]
     },
     "execution_count": 37,
     "metadata": {},
     "output_type": "execute_result"
    }
   ],
   "source": [
    "bic = [-5053016.8329620585, -6193154.734473263, -6052897.074340915, -7929287.008064644, -8384702.154626688, -8065046.524682592, -8032085.538988901, -8124441.895739372, -8067481.297958793, -8015460.98675337, -8289538.2403924875]\n",
    "bic = np.array(bic)\n",
    "bic = (bic - np.mean(bic)) / np.std(bic)\n",
    "bic"
   ]
  },
  {
   "cell_type": "code",
   "execution_count": 39,
   "metadata": {},
   "outputs": [
    {
     "data": {
      "text/plain": [
       "array([ 2.60822819,  1.46479947, -0.18410623, -0.27634386, -0.73307347,\n",
       "       -0.44274686, -0.45657161, -0.47531075, -0.4676572 , -0.42686396,\n",
       "       -0.61035372])"
      ]
     },
     "execution_count": 39,
     "metadata": {},
     "output_type": "execute_result"
    }
   ],
   "source": [
    "bic = [-5053016.8329620585, -6193154.734473263, -7837314.847455306, -7929287.008544364, -8384702.141610095, -8095211.102281946, -8108996.063668, -8127681.275567877, -8120049.751262775, -8079373.909189134, -8262335.585857669]\n",
    "bic = np.array(bic)\n",
    "bic = (bic - np.mean(bic)) / np.std(bic)\n",
    "bic"
   ]
  }
 ],
 "metadata": {
  "kernelspec": {
   "display_name": "Python 3",
   "language": "python",
   "name": "python3"
  },
  "language_info": {
   "codemirror_mode": {
    "name": "ipython",
    "version": 3
   },
   "file_extension": ".py",
   "mimetype": "text/x-python",
   "name": "python",
   "nbconvert_exporter": "python",
   "pygments_lexer": "ipython3",
   "version": "3.6.8"
  }
 },
 "nbformat": 4,
 "nbformat_minor": 2
}
