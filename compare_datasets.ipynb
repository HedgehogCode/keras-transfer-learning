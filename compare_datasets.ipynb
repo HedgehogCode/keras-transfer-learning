{
 "cells": [
  {
   "cell_type": "code",
   "execution_count": 1,
   "metadata": {},
   "outputs": [
    {
     "name": "stderr",
     "output_type": "stream",
     "text": [
      "Using TensorFlow backend.\n"
     ]
    }
   ],
   "source": [
    "%load_ext autoreload\n",
    "%autoreload 2\n",
    "\n",
    "import numpy as np\n",
    "from skimage import measure\n",
    "\n",
    "from keras_transfer_learning import dataset\n",
    "from keras_transfer_learning.data import compare"
   ]
  },
  {
   "cell_type": "code",
   "execution_count": 83,
   "metadata": {},
   "outputs": [],
   "source": [
    "config_cytogen_high_noise = {\n",
    "    'name': 'compare_dataset_high_noise',\n",
    "    'input_shape': [None, None, 1],\n",
    "    'data': {\n",
    "        'name': 'cytogen',\n",
    "        'data_dir': 'data/cytogen_hl60_high-noise',\n",
    "        'train_val_split': 0.9,\n",
    "        'normalizer': 'min-max',\n",
    "        'datasplit_seed': 42,\n",
    "    }\n",
    "}\n",
    "config_cytogen_low_noise = {\n",
    "    'name': 'compare_dataset_low_noise',\n",
    "    'input_shape': [None, None, 1],\n",
    "    'data': {\n",
    "        'name': 'cytogen',\n",
    "        'data_dir': 'data/cytogen_hl60_low-noise',\n",
    "        'train_val_split': 0.9,\n",
    "        'normalizer': 'min-max',\n",
    "        'datasplit_seed': 42,\n",
    "    }\n",
    "}\n",
    "config_dsb2018 = {\n",
    "    'name': 'compare_dataset_dsb2018',\n",
    "    'input_shape': [None, None, 1],\n",
    "    'data': {\n",
    "        'name': 'stardist-dsb2018',\n",
    "        'data_dir': 'data/stardist-dsb2018',\n",
    "        'train_val_split': 0.9,\n",
    "        'normalizer': 'min-max',\n",
    "        'datasplit_seed': 42,\n",
    "    }\n",
    "}"
   ]
  },
  {
   "cell_type": "code",
   "execution_count": 85,
   "metadata": {},
   "outputs": [],
   "source": [
    "d_cytogen_high = dataset.Dataset(config_cytogen_high_noise)\n",
    "d_cytogen_low = dataset.Dataset(config_cytogen_low_noise)\n",
    "d_dsb2018 = dataset.Dataset(config_dsb2018)"
   ]
  },
  {
   "cell_type": "code",
   "execution_count": 86,
   "metadata": {},
   "outputs": [],
   "source": [
    "x_cytogen_high, _ = d_cytogen_high.create_test_dataset()\n",
    "x_cytogen_low, _ = d_cytogen_low.create_test_dataset()\n",
    "x_dsb2018, _ = d_dsb2018.create_test_dataset()"
   ]
  },
  {
   "cell_type": "code",
   "execution_count": 92,
   "metadata": {},
   "outputs": [],
   "source": [
    "desc_cytogen_high = compare.get_descriptors_for_dataset(x_cytogen_high, 7, 128)\n",
    "desc_cytogen_low = compare.get_descriptors_for_dataset(x_cytogen_low, 7, 128)\n",
    "desc_dsb2018 = compare.get_descriptors_for_dataset(x_dsb2018, 7, 128*3)"
   ]
  },
  {
   "cell_type": "code",
   "execution_count": 98,
   "metadata": {},
   "outputs": [
    {
     "data": {
      "text/plain": [
       "0.1907722570142429"
      ]
     },
     "execution_count": 98,
     "metadata": {},
     "output_type": "execute_result"
    }
   ],
   "source": [
    "compare.sliced_wasserstein(desc_dsb2018, desc_cytogen_high, 4, 128)"
   ]
  },
  {
   "cell_type": "code",
   "execution_count": 112,
   "metadata": {},
   "outputs": [
    {
     "data": {
      "text/plain": [
       "0.20588179625340167"
      ]
     },
     "execution_count": 112,
     "metadata": {},
     "output_type": "execute_result"
    }
   ],
   "source": [
    "compare.sliced_wasserstein_patches(x_cytogen_high, x_dsb2018, n_patches=2**14)"
   ]
  },
  {
   "cell_type": "code",
   "execution_count": 117,
   "metadata": {},
   "outputs": [
    {
     "data": {
      "text/plain": [
       "[0.023283269669538264,\n",
       " 0.0063941885265826216,\n",
       " 0.0016421166160732548,\n",
       " 0.002725179598576688]"
      ]
     },
     "execution_count": 117,
     "metadata": {},
     "output_type": "execute_result"
    }
   ],
   "source": [
    "compare.sliced_wasserstein_pyramids(x_cytogen_high, x_cytogen_low, n_patches=2**14)"
   ]
  },
  {
   "cell_type": "code",
   "execution_count": 118,
   "metadata": {},
   "outputs": [
    {
     "data": {
      "text/plain": [
       "[0.005287973016756439,\n",
       " 0.002307055362286052,\n",
       " 0.0052682196616579795,\n",
       " 0.007984832734475557]"
      ]
     },
     "execution_count": 118,
     "metadata": {},
     "output_type": "execute_result"
    }
   ],
   "source": [
    "compare.sliced_wasserstein_pyramids(x_dsb2018, x_cytogen_low, n_patches=2**14)"
   ]
  }
 ],
 "metadata": {
  "kernelspec": {
   "display_name": "Python 3",
   "language": "python",
   "name": "python3"
  },
  "language_info": {
   "codemirror_mode": {
    "name": "ipython",
    "version": 3
   },
   "file_extension": ".py",
   "mimetype": "text/x-python",
   "name": "python",
   "nbconvert_exporter": "python",
   "pygments_lexer": "ipython3",
   "version": "3.6.8"
  }
 },
 "nbformat": 4,
 "nbformat_minor": 2
}
