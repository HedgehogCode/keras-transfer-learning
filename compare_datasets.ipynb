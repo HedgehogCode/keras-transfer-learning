{
 "cells": [
  {
   "cell_type": "code",
   "execution_count": 11,
   "metadata": {},
   "outputs": [
    {
     "name": "stdout",
     "output_type": "stream",
     "text": [
      "The autoreload extension is already loaded. To reload it, use:\n",
      "  %reload_ext autoreload\n"
     ]
    }
   ],
   "source": [
    "%load_ext autoreload\n",
    "%autoreload 2\n",
    "\n",
    "import numpy as np\n",
    "import tqdm\n",
    "from skimage import measure\n",
    "import seaborn as sn\n",
    "import pandas as pd\n",
    "import matplotlib.pyplot as plt\n",
    "\n",
    "from keras_transfer_learning import dataset\n",
    "from keras_transfer_learning.data import compare"
   ]
  },
  {
   "cell_type": "code",
   "execution_count": 2,
   "metadata": {},
   "outputs": [],
   "source": [
    "configs = [\n",
    "    {\n",
    "        'name': 'cytogen_high-noise',\n",
    "        'data': {\n",
    "            'name': 'cytogen',\n",
    "            'data_dir': 'data/cytogen_hl60_high-noise',\n",
    "            'normalizer': 'min-max'\n",
    "        }\n",
    "    },\n",
    "    {\n",
    "        'name': 'cytogen_low-noise',\n",
    "        'data': {\n",
    "            'name': 'cytogen',\n",
    "            'data_dir': 'data/cytogen_hl60_low-noise',\n",
    "            'normalizer': 'min-max'\n",
    "        }\n",
    "    },\n",
    "    {\n",
    "        'name': 'stardist_dsb2018',\n",
    "        'data': {\n",
    "            'name': 'stardist-dsb2018',\n",
    "            'data_dir': 'data/stardist-dsb2018',\n",
    "            'normalizer': 'min-max'\n",
    "        }\n",
    "    },\n",
    "    {\n",
    "        'name': 'cityscapes',\n",
    "        'data': {\n",
    "            'name': 'cityscapes',\n",
    "            'data_dir': 'data/cityscapes',\n",
    "            'normalizer': 'min-max'\n",
    "        }\n",
    "    }\n",
    "]"
   ]
  },
  {
   "cell_type": "code",
   "execution_count": 3,
   "metadata": {},
   "outputs": [],
   "source": [
    "datasets = [dataset.Dataset(c).create_test_dataset()[0] for c in configs]"
   ]
  },
  {
   "cell_type": "code",
   "execution_count": 4,
   "metadata": {},
   "outputs": [],
   "source": [
    "def comparion_matrix(metric):\n",
    "    num_datasets = len(datasets)\n",
    "    matrix = np.empty((num_datasets, num_datasets))\n",
    "    \n",
    "    comparisons = []\n",
    "    for i in range(num_datasets):\n",
    "        for j in range(i, num_datasets):\n",
    "            comparisons.append((i, j))\n",
    "\n",
    "    for i, j in tqdm.tqdm(comparisons):\n",
    "        val = metric(datasets[i], datasets[j])\n",
    "        matrix[i, j] = val\n",
    "        matrix[j, i] = val\n",
    "    return matrix"
   ]
  },
  {
   "cell_type": "code",
   "execution_count": 5,
   "metadata": {},
   "outputs": [
    {
     "name": "stderr",
     "output_type": "stream",
     "text": [
      "100%|██████████| 10/10 [03:51<00:00, 35.38s/it]\n"
     ]
    },
    {
     "name": "stdout",
     "output_type": "stream",
     "text": [
      "[[0.00023123 0.00848947 0.01236096 0.01109655]\n",
      " [0.00848947 0.00010894 0.00523103 0.00452786]\n",
      " [0.01236096 0.00523103 0.00021469 0.00179551]\n",
      " [0.01109655 0.00452786 0.00179551 0.00023308]]\n"
     ]
    }
   ],
   "source": [
    "sliced_wasserstein_matrix = comparion_matrix(\n",
    "    lambda a, b: np.mean(compare.sliced_wasserstein_pyramids(a, b, n_patches=2**14)))\n",
    "print(sliced_wasserstein_matrix)"
   ]
  },
  {
   "cell_type": "code",
   "execution_count": 13,
   "metadata": {},
   "outputs": [
    {
     "data": {
      "image/png": "[encoded data removed]",
      "text/plain": [
       "<Figure size 720x504 with 2 Axes>"
      ]
     },
     "metadata": {
      "needs_background": "light"
     },
     "output_type": "display_data"
    }
   ],
   "source": [
    "names = [c['name'] for c in configs]\n",
    "df_cm = pd.DataFrame(sliced_wasserstein_matrix, index=names, columns=names)\n",
    "plt.figure(figsize=(10,7))\n",
    "sn.heatmap(df_cm, annot=True)\n",
    "plt.show()"
   ]
  },
  {
   "cell_type": "code",
   "execution_count": 12,
   "metadata": {},
   "outputs": [
    {
     "data": {
      "text/plain": [
       "[0.0006891679397794555,\n",
       " 0.0012641336571127518,\n",
       " 0.001142204288144808,\n",
       " 0.0039007871251693664]"
      ]
     },
     "execution_count": 12,
     "metadata": {},
     "output_type": "execute_result"
    }
   ],
   "source": [
    "compare.sliced_wasserstein_pyramids(x_dsb2018, x_cityscapes, n_patches=2**15)"
   ]
  },
  {
   "cell_type": "code",
   "execution_count": null,
   "metadata": {},
   "outputs": [],
   "source": []
  }
 ],
 "metadata": {
  "kernelspec": {
   "display_name": "Python 3",
   "language": "python",
   "name": "python3"
  },
  "language_info": {
   "codemirror_mode": {
    "name": "ipython",
    "version": 3
   },
   "file_extension": ".py",
   "mimetype": "text/x-python",
   "name": "python",
   "nbconvert_exporter": "python",
   "pygments_lexer": "ipython3",
   "version": "3.6.8"
  }
 },
 "nbformat": 4,
 "nbformat_minor": 2
}
