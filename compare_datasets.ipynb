{
 "cells": [
  {
   "cell_type": "code",
   "execution_count": 27,
   "metadata": {},
   "outputs": [],
   "source": [
    "import numpy as np\n",
    "from skimage import measure\n",
    "from keras_transfer_learning import dataset"
   ]
  },
  {
   "cell_type": "code",
   "execution_count": 32,
   "metadata": {},
   "outputs": [],
   "source": [
    "config_1 = {\n",
    "    'name': 'compare_datasets_1',\n",
    "    'input_shape': [None, None, 1],\n",
    "    'data': {\n",
    "        'name': 'cytogen',\n",
    "        'data_dir': 'data/cytogen_hl60_high-noise',\n",
    "        'train_val_split': 0.9,\n",
    "        'normalizer': 'min-max',\n",
    "        'datasplit_seed': 42,\n",
    "    }\n",
    "}\n",
    "config_2 = {\n",
    "    'name': 'compare_datasets_2',\n",
    "    'input_shape': [None, None, 1],\n",
    "    'data': {\n",
    "        'name': 'cytogen',\n",
    "        'data_dir': 'data/cytogen_hl60_low-noise',\n",
    "        'train_val_split': 0.9,\n",
    "        'normalizer': 'min-max',\n",
    "        'datasplit_seed': 42,\n",
    "    }\n",
    "}"
   ]
  },
  {
   "cell_type": "code",
   "execution_count": 33,
   "metadata": {},
   "outputs": [],
   "source": [
    "d1 = dataset.Dataset(config_1)\n",
    "d2 = dataset.Dataset(config_2)"
   ]
  },
  {
   "cell_type": "code",
   "execution_count": 34,
   "metadata": {},
   "outputs": [],
   "source": [
    "X1, _ = d1.create_test_dataset()\n",
    "X2, _ = d2.create_test_dataset()"
   ]
  },
  {
   "cell_type": "code",
   "execution_count": 35,
   "metadata": {},
   "outputs": [],
   "source": [
    "def ssim(im1, im2):\n",
    "    max_shape = []\n",
    "    for x1, x2 in zip(im1.shape, im2.shape):\n",
    "        max_shape.append(slice(0, min(x1, x2)))\n",
    "    im1 = im1[tuple(max_shape)]\n",
    "    im2 = im2[tuple(max_shape)]\n",
    "    return measure.compare_ssim(im1, im2)"
   ]
  },
  {
   "cell_type": "code",
   "execution_count": 36,
   "metadata": {},
   "outputs": [],
   "source": [
    "def ssim_datasets(A, B, samples=1000):\n",
    "    scores = []\n",
    "    for _ in range(samples):\n",
    "        first_idx = np.random.randint(0, len(A))\n",
    "        second_idx = np.random.randint(0, len(B))\n",
    "        scores.append(ssim(A[first_idx], B[second_idx]))\n",
    "    return np.mean(scores)"
   ]
  },
  {
   "cell_type": "code",
   "execution_count": 39,
   "metadata": {},
   "outputs": [
    {
     "data": {
      "text/plain": [
       "0.5795839517780355"
      ]
     },
     "execution_count": 39,
     "metadata": {},
     "output_type": "execute_result"
    }
   ],
   "source": [
    "ssim_datasets(X2, X2)"
   ]
  }
 ],
 "metadata": {
  "kernelspec": {
   "display_name": "Python 3",
   "language": "python",
   "name": "python3"
  },
  "language_info": {
   "codemirror_mode": {
    "name": "ipython",
    "version": 3
   },
   "file_extension": ".py",
   "mimetype": "text/x-python",
   "name": "python",
   "nbconvert_exporter": "python",
   "pygments_lexer": "ipython3",
   "version": "3.6.8"
  }
 },
 "nbformat": 4,
 "nbformat_minor": 2
}
