{
 "cells": [
  {
   "cell_type": "code",
   "execution_count": 1,
   "metadata": {
    "scrolled": true
   },
   "outputs": [
    {
     "name": "stderr",
     "output_type": "stream",
     "text": [
      "Using TensorFlow backend.\n",
      "/home/benjamin/miniconda3/envs/bachelorthesis/lib/python3.6/site-packages/classification_models/resnext/__init__.py:4: UserWarning: Current ResNext models are deprecated, use keras.applications ResNeXt models\n",
      "  warnings.warn('Current ResNext models are deprecated, '\n"
     ]
    }
   ],
   "source": [
    "%load_ext autoreload\n",
    "%autoreload 2\n",
    "\n",
    "import pandas as pd\n",
    "from scipy import stats\n",
    "\n",
    "from keras_transfer_learning.utils import visualize, utils"
   ]
  },
  {
   "cell_type": "code",
   "execution_count": 2,
   "metadata": {},
   "outputs": [],
   "source": [
    "regex_for = utils.model_name_regex\n",
    "\n",
    "def result_list_for_regex(exp_reg, metric='ap_dsb2018#mean'):\n",
    "    selected_models = visualize.get_models(exp_reg)\n",
    "    results_df = visualize._get_results_last_df(selected_models)\n",
    "    return results_df[metric].values\n",
    "\n",
    "def welch_test(exp_reg_1, exp_reg_2, metric='ap_dsb2018#mean'):\n",
    "    results_1 = result_list_for_regex(exp_reg_1, metric)\n",
    "    results_2 = result_list_for_regex(exp_reg_2, metric)\n",
    "    return stats.ttest_ind(results_1, results_2, equal_var=False)\n",
    "\n",
    "def welch_test_transfer(exp_reg_1, exp_reg_2, metric='ap_dsb2018#mean'):\n",
    "    num_trains = [2, 5, 10, 50, 200]\n",
    "    \n",
    "    results_1 = visualize._get_results_last_df(visualize.get_models(exp_reg_1))\n",
    "    results_2 = visualize._get_results_last_df(visualize.get_models(exp_reg_2))\n",
    "    \n",
    "    res = {}\n",
    "    for num_train in num_trains:\n",
    "        results_1_list = results_1[results_1['Num Train'] == num_train][metric].values\n",
    "        results_2_list = results_2[results_2['Num Train'] == num_train][metric].values\n",
    "        tstat, pval = stats.ttest_ind(results_1_list, results_2_list, equal_var=False)\n",
    "        res[num_train] = {'tstat': tstat, 'pval': pval}\n",
    "    return res"
   ]
  },
  {
   "cell_type": "markdown",
   "metadata": {},
   "source": [
    "# Experiment \"resunet\""
   ]
  },
  {
   "cell_type": "markdown",
   "metadata": {},
   "source": [
    "## Res-U-Net vs U-Net on DSB2018"
   ]
  },
  {
   "cell_type": "code",
   "execution_count": 3,
   "metadata": {},
   "outputs": [
    {
     "name": "stdout",
     "output_type": "stream",
     "text": [
      "tstat=6.565784596262767, pval=0.0001419430620745522\n"
     ]
    }
   ],
   "source": [
    "exp_reg_1 = regex_for('R', 'none', 'dsb2018', 'stardist', 'resnet-unet', 'F')\n",
    "exp_reg_2 = regex_for('R', 'none', 'dsb2018', 'stardist', 'unet', 'F')\n",
    "tstat, pval = welch_test(exp_reg_1, exp_reg_2)\n",
    "print(f'tstat={tstat}, pval={pval}')"
   ]
  },
  {
   "cell_type": "markdown",
   "metadata": {},
   "source": [
    "## Res-U-Net vs U-Net on STARDIST_DSB2018"
   ]
  },
  {
   "cell_type": "code",
   "execution_count": 4,
   "metadata": {},
   "outputs": [
    {
     "name": "stdout",
     "output_type": "stream",
     "text": [
      "tstat=1.997768136468581, pval=0.09521728059100179\n"
     ]
    }
   ],
   "source": [
    "exp_reg_1 = regex_for('R', 'none', 'stardist-dsb2018', 'stardist', 'resnet-unet', 'F')\n",
    "exp_reg_2 = regex_for('R', 'none', 'stardist-dsb2018', 'stardist', 'unet', 'F')\n",
    "tstat, pval = welch_test(exp_reg_1, exp_reg_2)\n",
    "print(f'tstat={tstat}, pval={pval}')"
   ]
  },
  {
   "cell_type": "markdown",
   "metadata": {},
   "source": [
    "# Experiment \"noise\""
   ]
  },
  {
   "cell_type": "markdown",
   "metadata": {},
   "source": [
    "## HL60_LOW_NOISE -> HL60_HIGH_NOISE"
   ]
  },
  {
   "cell_type": "code",
   "execution_count": 5,
   "metadata": {},
   "outputs": [
    {
     "data": {
      "text/plain": [
       "{2: {'tstat': 1.4095541582703315, 'pval': 0.20463545208851633},\n",
       " 5: {'tstat': 3.669906975596099, 'pval': 0.011341625606191716},\n",
       " 10: {'tstat': 1.4767762735296883, 'pval': 0.18411904479424993},\n",
       " 50: {'tstat': 1.5422046912893852, 'pval': 0.1615997035722803},\n",
       " 200: {'tstat': 2.248294126513173, 'pval': 0.07542753401560591}}"
      ]
     },
     "execution_count": 5,
     "metadata": {},
     "output_type": "execute_result"
    }
   ],
   "source": [
    "exp_reg_1 = regex_for('P', 'hl60low', 'hl60high', 'stardist', 'unet')\n",
    "exp_reg_2 = regex_for('R', 'none', 'hl60high', 'stardist', 'unet')\n",
    "welch_test_transfer(exp_reg_1, exp_reg_2)"
   ]
  },
  {
   "cell_type": "markdown",
   "metadata": {},
   "source": [
    "##  HL60_HIGH_NOISE -> HL60_LOW_NOISE"
   ]
  },
  {
   "cell_type": "code",
   "execution_count": 6,
   "metadata": {},
   "outputs": [
    {
     "data": {
      "text/plain": [
       "{2: {'tstat': 5.837045501220411, 'pval': 0.0010003641637779353},\n",
       " 5: {'tstat': 6.2114283129127275, 'pval': 0.0007873367036317932},\n",
       " 10: {'tstat': 4.171637981920288, 'pval': 0.007363825309171871},\n",
       " 50: {'tstat': 0.6925474689194567, 'pval': 0.5159098520926949},\n",
       " 200: {'tstat': -0.11359730578082836, 'pval': 0.9122324338722978}}"
      ]
     },
     "execution_count": 6,
     "metadata": {},
     "output_type": "execute_result"
    }
   ],
   "source": [
    "exp_reg_1 = regex_for('P', 'hl60high', 'hl60low', 'stardist', 'unet')\n",
    "exp_reg_2 = regex_for('R', 'none', 'hl60low', 'stardist', 'unet')\n",
    "welch_test_transfer(exp_reg_1, exp_reg_2)"
   ]
  },
  {
   "cell_type": "markdown",
   "metadata": {},
   "source": [
    "# Experiment \"natural\""
   ]
  },
  {
   "cell_type": "markdown",
   "metadata": {},
   "source": [
    "##  CITYSCAPES -> HL60_LOW_NOISE"
   ]
  },
  {
   "cell_type": "code",
   "execution_count": 7,
   "metadata": {},
   "outputs": [
    {
     "data": {
      "text/plain": [
       "{2: {'tstat': -1.2401778090668358, 'pval': 0.26137036072426095},\n",
       " 5: {'tstat': -3.0775731578319547, 'pval': 0.015177219391470998},\n",
       " 10: {'tstat': -3.018766115673872, 'pval': 0.01707083634218986},\n",
       " 50: {'tstat': 0.3313109753118702, 'pval': 0.7544945699718135},\n",
       " 200: {'tstat': -0.8275089296980899, 'pval': 0.4384101696477022}}"
      ]
     },
     "execution_count": 7,
     "metadata": {},
     "output_type": "execute_result"
    }
   ],
   "source": [
    "exp_reg_1 = regex_for('P', 'cityscapes', 'hl60low', 'stardist', 'resnet-unet')\n",
    "exp_reg_2 = regex_for('R', 'none', 'hl60low', 'stardist', 'resnet-unet')\n",
    "welch_test_transfer(exp_reg_1, exp_reg_2)"
   ]
  },
  {
   "cell_type": "markdown",
   "metadata": {},
   "source": [
    "##  CITYSCAPES -> DSB2018"
   ]
  },
  {
   "cell_type": "code",
   "execution_count": 8,
   "metadata": {},
   "outputs": [
    {
     "data": {
      "text/plain": [
       "{2: {'tstat': 6.240875607787007, 'pval': 0.0003129348780865917},\n",
       " 5: {'tstat': 2.1730973552001527, 'pval': 0.061538461617891185},\n",
       " 10: {'tstat': 0.9567773462465909, 'pval': 0.36774450619583654},\n",
       " 50: {'tstat': -0.3955468215565188, 'pval': 0.703453431912259},\n",
       " 200: {'tstat': 0.5794859673285163, 'pval': 0.5797201078009582}}"
      ]
     },
     "execution_count": 8,
     "metadata": {},
     "output_type": "execute_result"
    }
   ],
   "source": [
    "exp_reg_1 = regex_for('P', 'cityscapes', 'dsb2018', 'stardist', 'resnet-unet')\n",
    "exp_reg_2 = regex_for('R', 'none', 'dsb2018', 'stardist', 'resnet-unet')\n",
    "welch_test_transfer(exp_reg_1, exp_reg_2)"
   ]
  },
  {
   "cell_type": "markdown",
   "metadata": {},
   "source": [
    "## IMAGENET -> DSB2018"
   ]
  },
  {
   "cell_type": "code",
   "execution_count": 9,
   "metadata": {},
   "outputs": [
    {
     "data": {
      "text/plain": [
       "{2: {'tstat': 6.7622351010661585, 'pval': 0.008573847368841866},\n",
       " 5: {'tstat': 0.3485888832475987, 'pval': 0.7451862390819357},\n",
       " 10: {'tstat': -0.1807110383970501, 'pval': 0.8660024784080693},\n",
       " 50: {'tstat': 0.7986941563816746, 'pval': 0.5037747024246484},\n",
       " 200: {'tstat': 0.13603497952113433, 'pval': 0.8983678675564895}}"
      ]
     },
     "execution_count": 9,
     "metadata": {},
     "output_type": "execute_result"
    }
   ],
   "source": [
    "exp_reg_1 = regex_for('P', 'imagenet', 'dsb2018', 'stardist', 'imagenet-resnet-unet')\n",
    "exp_reg_2 = regex_for('R', 'none', 'dsb2018', 'stardist', 'imagenet-resnet-unet')\n",
    "welch_test_transfer(exp_reg_1, exp_reg_2)"
   ]
  },
  {
   "cell_type": "markdown",
   "metadata": {},
   "source": [
    "# Experiment \"simulated\""
   ]
  },
  {
   "cell_type": "markdown",
   "metadata": {},
   "source": [
    "## HL60_LOW_NOISE -> DSB2018"
   ]
  },
  {
   "cell_type": "code",
   "execution_count": 10,
   "metadata": {},
   "outputs": [
    {
     "data": {
      "text/plain": [
       "{2: {'tstat': -2.082341958052606, 'pval': 0.05882971858628898},\n",
       " 5: {'tstat': 1.5300211228451428, 'pval': 0.14892644559452387},\n",
       " 10: {'tstat': 2.4405310931561996, 'pval': 0.027417651166113496},\n",
       " 50: {'tstat': 0.3911617386174003, 'pval': 0.7011190800034659},\n",
       " 200: {'tstat': 0.4827606743250054, 'pval': 0.6368512237306375}}"
      ]
     },
     "execution_count": 10,
     "metadata": {},
     "output_type": "execute_result"
    }
   ],
   "source": [
    "exp_reg_1 = regex_for('P', 'hl60low', 'dsb2018', 'stardist', 'unet')\n",
    "exp_reg_2 = regex_for('R', 'none', 'dsb2018', 'stardist', 'unet')\n",
    "welch_test_transfer(exp_reg_1, exp_reg_2)"
   ]
  },
  {
   "cell_type": "markdown",
   "metadata": {},
   "source": [
    "## HL60_HIGH_NOISE -> DSB2018"
   ]
  },
  {
   "cell_type": "code",
   "execution_count": 11,
   "metadata": {},
   "outputs": [
    {
     "data": {
      "text/plain": [
       "{2: {'tstat': -6.281602337575954, 'pval': 0.0002532797414096654},\n",
       " 5: {'tstat': -2.7590979083362486, 'pval': 0.020142012037750612},\n",
       " 10: {'tstat': -0.6274235630711913, 'pval': 0.5423948180584326},\n",
       " 50: {'tstat': -1.0963276963194024, 'pval': 0.2981935922682462},\n",
       " 200: {'tstat': -3.5616286124337755, 'pval': 0.006231655462025591}}"
      ]
     },
     "execution_count": 11,
     "metadata": {},
     "output_type": "execute_result"
    }
   ],
   "source": [
    "exp_reg_1 = regex_for('P', 'hl60high', 'dsb2018', 'stardist', 'unet')\n",
    "exp_reg_2 = regex_for('R', 'none', 'dsb2018', 'stardist', 'unet')\n",
    "welch_test_transfer(exp_reg_1, exp_reg_2)"
   ]
  },
  {
   "cell_type": "markdown",
   "metadata": {},
   "source": [
    "## GRANULOCYTE -> DSB2018"
   ]
  },
  {
   "cell_type": "code",
   "execution_count": 12,
   "metadata": {
    "scrolled": true
   },
   "outputs": [
    {
     "data": {
      "text/plain": [
       "{2: {'tstat': -0.49648350039731587, 'pval': 0.6265335477903049},\n",
       " 5: {'tstat': 2.1071193597195803, 'pval': 0.054363002979493966},\n",
       " 10: {'tstat': 3.71632574626126, 'pval': 0.002632774332886333},\n",
       " 50: {'tstat': 3.1492493470455307, 'pval': 0.006096777498749658},\n",
       " 200: {'tstat': 0.5547555255105506, 'pval': 0.586904491829275}}"
      ]
     },
     "execution_count": 12,
     "metadata": {},
     "output_type": "execute_result"
    }
   ],
   "source": [
    "exp_reg_1 = regex_for('P', 'granulocyte', 'dsb2018', 'stardist', 'unet')\n",
    "exp_reg_2 = regex_for('R', 'none', 'dsb2018', 'stardist', 'unet')\n",
    "welch_test_transfer(exp_reg_1, exp_reg_2)"
   ]
  },
  {
   "cell_type": "markdown",
   "metadata": {},
   "source": [
    "# Experiment \"dsb2018\""
   ]
  },
  {
   "cell_type": "markdown",
   "metadata": {},
   "source": [
    "## DSB2018 -> HL60_LOW_NOISE"
   ]
  },
  {
   "cell_type": "code",
   "execution_count": 13,
   "metadata": {},
   "outputs": [
    {
     "data": {
      "text/plain": [
       "{2: {'tstat': 3.681471233261329, 'pval': 0.0015014321451298222},\n",
       " 5: {'tstat': 4.99345499412356, 'pval': 0.0001127226261482432},\n",
       " 10: {'tstat': 7.4437596535156825, 'pval': 1.819191013554962e-07},\n",
       " 50: {'tstat': 2.236078043005938, 'pval': 0.03543393108907091},\n",
       " 200: {'tstat': 0.2690685603663977, 'pval': 0.7903456606002771}}"
      ]
     },
     "execution_count": 13,
     "metadata": {},
     "output_type": "execute_result"
    }
   ],
   "source": [
    "exp_reg_1 = regex_for('P', 'dsb2018', 'hl60low', 'stardist', 'unet')\n",
    "exp_reg_2 = regex_for('R', 'none', 'hl60low', 'stardist', 'unet')\n",
    "welch_test_transfer(exp_reg_1, exp_reg_2)"
   ]
  },
  {
   "cell_type": "markdown",
   "metadata": {},
   "source": [
    "## DSB2018 -> HL60_HIGH_NOISE"
   ]
  },
  {
   "cell_type": "code",
   "execution_count": 14,
   "metadata": {},
   "outputs": [
    {
     "data": {
      "text/plain": [
       "{2: {'tstat': 0.008601030825975403, 'pval': 0.9933493605683203},\n",
       " 5: {'tstat': -0.6638983476320488, 'pval': 0.5262439804668415},\n",
       " 10: {'tstat': 1.075641110115368, 'pval': 0.3196011826586579},\n",
       " 50: {'tstat': -0.1988152206512906, 'pval': 0.8491092239695547},\n",
       " 200: {'tstat': -0.41829021951338013, 'pval': 0.6874054002565521}}"
      ]
     },
     "execution_count": 14,
     "metadata": {},
     "output_type": "execute_result"
    }
   ],
   "source": [
    "exp_reg_1 = regex_for('P', 'dsb2018', 'hl60high', 'stardist', 'unet')\n",
    "exp_reg_2 = regex_for('R', 'none', 'hl60high', 'stardist', 'unet')\n",
    "welch_test_transfer(exp_reg_1, exp_reg_2)"
   ]
  },
  {
   "cell_type": "markdown",
   "metadata": {},
   "source": [
    "## DSB2018 -> GRANULOCYTE"
   ]
  },
  {
   "cell_type": "code",
   "execution_count": 15,
   "metadata": {},
   "outputs": [
    {
     "data": {
      "text/plain": [
       "{2: {'tstat': 4.341421802247028, 'pval': 0.00041923084066682135},\n",
       " 5: {'tstat': 3.5611437314183734, 'pval': 0.002853019778394442},\n",
       " 10: {'tstat': 0.8609457314578913, 'pval': 0.4005918768061144},\n",
       " 50: {'tstat': 0.32836364279021657, 'pval': 0.7464731505975704},\n",
       " 200: {'tstat': 2.0182259321313207, 'pval': 0.06295344317558316}}"
      ]
     },
     "execution_count": 15,
     "metadata": {},
     "output_type": "execute_result"
    }
   ],
   "source": [
    "exp_reg_1 = regex_for('P', 'dsb2018', 'granulocyte', 'stardist', 'unet')\n",
    "exp_reg_2 = regex_for('R', 'none', 'granulocyte', 'stardist', 'unet')\n",
    "welch_test_transfer(exp_reg_1, exp_reg_2)"
   ]
  },
  {
   "cell_type": "markdown",
   "metadata": {},
   "source": [
    "# Experiment \"multi\""
   ]
  },
  {
   "cell_type": "markdown",
   "metadata": {},
   "source": [
    "## SIMULATED -> DSB2018"
   ]
  },
  {
   "cell_type": "code",
   "execution_count": 16,
   "metadata": {},
   "outputs": [
    {
     "data": {
      "text/plain": [
       "{2: {'tstat': 5.979715074865375, 'pval': 0.001255481421300519},\n",
       " 5: {'tstat': 4.836934676484098, 'pval': 0.00315860618409932},\n",
       " 10: {'tstat': 3.4398069864215537, 'pval': 0.008828937990187915},\n",
       " 50: {'tstat': 1.464424682424375, 'pval': 0.1816888206460144},\n",
       " 200: {'tstat': -0.3230997615863624, 'pval': 0.7565745001047921}}"
      ]
     },
     "execution_count": 16,
     "metadata": {},
     "output_type": "execute_result"
    }
   ],
   "source": [
    "exp_reg_1 = regex_for('P', 'hl60low-hl60high-granulocyte', 'dsb2018', 'stardist', 'resnet-unet')\n",
    "exp_reg_2 = regex_for('R', 'none', 'dsb2018', 'stardist', 'resnet-unet')\n",
    "welch_test_transfer(exp_reg_1, exp_reg_2)"
   ]
  },
  {
   "cell_type": "markdown",
   "metadata": {},
   "source": [
    "## SIMULATED -> DSB2018"
   ]
  },
  {
   "cell_type": "code",
   "execution_count": 17,
   "metadata": {},
   "outputs": [
    {
     "data": {
      "text/plain": [
       "{2: {'tstat': 6.251458597807002, 'pval': 0.0005591971220201877},\n",
       " 5: {'tstat': 6.741008029121024, 'pval': 0.0006102769423317721},\n",
       " 10: {'tstat': 6.7733644077168735, 'pval': 0.000196788536225865},\n",
       " 50: {'tstat': 2.879122192449447, 'pval': 0.020670738043891874},\n",
       " 200: {'tstat': 0.3578591389935312, 'pval': 0.7298098884721189}}"
      ]
     },
     "execution_count": 17,
     "metadata": {},
     "output_type": "execute_result"
    }
   ],
   "source": [
    "exp_reg_1 = regex_for('P', 'hl60low-granulocyte-aug', 'dsb2018', 'stardist', 'resnet-unet')\n",
    "exp_reg_2 = regex_for('R', 'none', 'dsb2018', 'stardist', 'resnet-unet')\n",
    "welch_test_transfer(exp_reg_1, exp_reg_2)"
   ]
  }
 ],
 "metadata": {
  "kernelspec": {
   "display_name": "Python 3",
   "language": "python",
   "name": "python3"
  },
  "language_info": {
   "codemirror_mode": {
    "name": "ipython",
    "version": 3
   },
   "file_extension": ".py",
   "mimetype": "text/x-python",
   "name": "python",
   "nbconvert_exporter": "python",
   "pygments_lexer": "ipython3",
   "version": "3.6.8"
  }
 },
 "nbformat": 4,
 "nbformat_minor": 2
}
